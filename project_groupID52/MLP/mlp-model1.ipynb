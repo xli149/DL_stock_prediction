{
 "cells": [
  {
   "cell_type": "code",
   "execution_count": 1,
   "metadata": {
    "execution": {
     "iopub.execute_input": "2021-11-17T17:05:14.398611Z",
     "iopub.status.busy": "2021-11-17T17:05:14.398028Z",
     "iopub.status.idle": "2021-11-17T17:05:27.450988Z",
     "shell.execute_reply": "2021-11-17T17:05:27.450012Z",
     "shell.execute_reply.started": "2021-11-17T17:05:14.398480Z"
    }
   },
   "outputs": [
    {
     "name": "stdout",
     "output_type": "stream",
     "text": [
      "Requirement already satisfied: tushare in /Users/chrislee/miniconda3/envs/deeplearn_course1/lib/python3.7/site-packages (1.2.67)\n",
      "Requirement already satisfied: simplejson in /Users/chrislee/miniconda3/envs/deeplearn_course1/lib/python3.7/site-packages (from tushare) (3.17.5)\n",
      "Requirement already satisfied: websocket-client>=0.57.0 in /Users/chrislee/miniconda3/envs/deeplearn_course1/lib/python3.7/site-packages (from tushare) (1.2.1)\n",
      "Requirement already satisfied: lxml in /Users/chrislee/miniconda3/envs/deeplearn_course1/lib/python3.7/site-packages (from tushare) (4.6.3)\n",
      "Requirement already satisfied: pandas in /Users/chrislee/miniconda3/envs/deeplearn_course1/lib/python3.7/site-packages (from tushare) (1.3.1)\n",
      "Requirement already satisfied: requests in /Users/chrislee/miniconda3/envs/deeplearn_course1/lib/python3.7/site-packages (from tushare) (2.25.1)\n",
      "Requirement already satisfied: bs4 in /Users/chrislee/miniconda3/envs/deeplearn_course1/lib/python3.7/site-packages (from tushare) (0.0.1)\n",
      "Requirement already satisfied: beautifulsoup4 in /Users/chrislee/miniconda3/envs/deeplearn_course1/lib/python3.7/site-packages (from bs4->tushare) (4.10.0)\n",
      "Requirement already satisfied: numpy>=1.17.3 in /Users/chrislee/miniconda3/envs/deeplearn_course1/lib/python3.7/site-packages (from pandas->tushare) (1.21.1)\n",
      "Requirement already satisfied: python-dateutil>=2.7.3 in /Users/chrislee/miniconda3/envs/deeplearn_course1/lib/python3.7/site-packages (from pandas->tushare) (2.8.2)\n",
      "Requirement already satisfied: pytz>=2017.3 in /Users/chrislee/miniconda3/envs/deeplearn_course1/lib/python3.7/site-packages (from pandas->tushare) (2021.3)\n",
      "Requirement already satisfied: chardet<5,>=3.0.2 in /Users/chrislee/miniconda3/envs/deeplearn_course1/lib/python3.7/site-packages (from requests->tushare) (4.0.0)\n",
      "Requirement already satisfied: idna<3,>=2.5 in /Users/chrislee/miniconda3/envs/deeplearn_course1/lib/python3.7/site-packages (from requests->tushare) (2.10)\n",
      "Requirement already satisfied: certifi>=2017.4.17 in /Users/chrislee/miniconda3/envs/deeplearn_course1/lib/python3.7/site-packages (from requests->tushare) (2021.10.8)\n",
      "Requirement already satisfied: urllib3<1.27,>=1.21.1 in /Users/chrislee/miniconda3/envs/deeplearn_course1/lib/python3.7/site-packages (from requests->tushare) (1.26.7)\n",
      "Requirement already satisfied: six>=1.5 in /Users/chrislee/miniconda3/envs/deeplearn_course1/lib/python3.7/site-packages (from python-dateutil>=2.7.3->pandas->tushare) (1.16.0)\n",
      "Requirement already satisfied: soupsieve>1.2 in /Users/chrislee/miniconda3/envs/deeplearn_course1/lib/python3.7/site-packages (from beautifulsoup4->bs4->tushare) (2.2.1)\n",
      "Note: you may need to restart the kernel to use updated packages.\n"
     ]
    }
   ],
   "source": [
    "pip install tushare"
   ]
  },
  {
   "cell_type": "code",
   "execution_count": 2,
   "metadata": {
    "execution": {
     "iopub.execute_input": "2021-11-17T17:05:27.453238Z",
     "iopub.status.busy": "2021-11-17T17:05:27.453002Z",
     "iopub.status.idle": "2021-11-17T17:05:29.687095Z",
     "shell.execute_reply": "2021-11-17T17:05:29.686141Z",
     "shell.execute_reply.started": "2021-11-17T17:05:27.453207Z"
    }
   },
   "outputs": [],
   "source": [
    "import tushare as ts\n",
    "import numpy as np\n",
    "import torch\n",
    "import torch.nn as nn\n",
    "import matplotlib.pyplot as plt\n",
    "import seaborn as sb"
   ]
  },
  {
   "cell_type": "markdown",
   "metadata": {},
   "source": [
    "import dataset"
   ]
  },
  {
   "cell_type": "code",
   "execution_count": 3,
   "metadata": {
    "execution": {
     "iopub.execute_input": "2021-11-17T17:05:29.688736Z",
     "iopub.status.busy": "2021-11-17T17:05:29.688464Z",
     "iopub.status.idle": "2021-11-17T17:05:31.685539Z",
     "shell.execute_reply": "2021-11-17T17:05:31.684912Z",
     "shell.execute_reply.started": "2021-11-17T17:05:29.688705Z"
    }
   },
   "outputs": [],
   "source": [
    "ts.set_token('293d683e83b36fad82472d9a4b4c3903d21fa6bcb85cb0cd4f4b9414')\n",
    "pro = ts.pro_api()\n",
    "df = pro.daily(ts_code='000001.SZ', start_date='2010-01-01', end_date='2022-12-31')"
   ]
  },
  {
   "cell_type": "code",
   "execution_count": 4,
   "metadata": {
    "execution": {
     "iopub.execute_input": "2021-11-17T17:05:31.687992Z",
     "iopub.status.busy": "2021-11-17T17:05:31.686783Z",
     "iopub.status.idle": "2021-11-17T17:05:31.695080Z",
     "shell.execute_reply": "2021-11-17T17:05:31.694017Z",
     "shell.execute_reply.started": "2021-11-17T17:05:31.687924Z"
    }
   },
   "outputs": [],
   "source": [
    "df = df.iloc[::-1]\n",
    "df.reset_index(inplace=True)"
   ]
  },
  {
   "cell_type": "code",
   "execution_count": 5,
   "metadata": {
    "execution": {
     "iopub.execute_input": "2021-11-17T17:05:31.698691Z",
     "iopub.status.busy": "2021-11-17T17:05:31.698227Z",
     "iopub.status.idle": "2021-11-17T17:05:31.713046Z",
     "shell.execute_reply": "2021-11-17T17:05:31.711992Z",
     "shell.execute_reply.started": "2021-11-17T17:05:31.698569Z"
    }
   },
   "outputs": [
    {
     "data": {
      "text/plain": [
       "'from sklearn.preprocessing import MinMaxScaler\\nsc = MinMaxScaler(feature_range = (0, 1))\\ntraining_set = sc.fit_transform(training_set)'"
      ]
     },
     "execution_count": 5,
     "metadata": {},
     "output_type": "execute_result"
    }
   ],
   "source": [
    "training_set = df.loc[:, ['close']]\n",
    "training_set = training_set.values\n",
    "'''from sklearn.preprocessing import MinMaxScaler\n",
    "sc = MinMaxScaler(feature_range = (0, 1))\n",
    "training_set = sc.fit_transform(training_set)'''"
   ]
  },
  {
   "cell_type": "markdown",
   "metadata": {},
   "source": [
    "form a list of records of every 60 intervals of past closing price"
   ]
  },
  {
   "cell_type": "code",
   "execution_count": 6,
   "metadata": {
    "execution": {
     "iopub.execute_input": "2021-11-17T17:05:31.715543Z",
     "iopub.status.busy": "2021-11-17T17:05:31.714675Z",
     "iopub.status.idle": "2021-11-17T17:05:31.836800Z",
     "shell.execute_reply": "2021-11-17T17:05:31.835636Z",
     "shell.execute_reply.started": "2021-11-17T17:05:31.715486Z"
    }
   },
   "outputs": [
    {
     "name": "stdout",
     "output_type": "stream",
     "text": [
      "(2756, 60, 1)\n",
      "(2756,)\n"
     ]
    }
   ],
   "source": [
    "from sklearn.preprocessing import scale\n",
    "x_train = []\n",
    "y_train = []\n",
    "for i in range(60, len(training_set)):\n",
    "    x_train.append(training_set[i-60:i])\n",
    "    y_train.append(training_set[i, training_set.shape[1] - 1])\n",
    "x, y = np.array(x_train), np.array(y_train)\n",
    "print(x.shape)\n",
    "print(y.shape)"
   ]
  },
  {
   "cell_type": "code",
   "execution_count": 7,
   "metadata": {
    "execution": {
     "iopub.execute_input": "2021-11-17T17:05:31.838471Z",
     "iopub.status.busy": "2021-11-17T17:05:31.838234Z",
     "iopub.status.idle": "2021-11-17T17:05:31.844927Z",
     "shell.execute_reply": "2021-11-17T17:05:31.843904Z",
     "shell.execute_reply.started": "2021-11-17T17:05:31.838444Z"
    }
   },
   "outputs": [
    {
     "name": "stdout",
     "output_type": "stream",
     "text": [
      "cpu\n"
     ]
    }
   ],
   "source": [
    "device= torch.device(\"cpu\")\n",
    "print(device)"
   ]
  },
  {
   "cell_type": "markdown",
   "metadata": {},
   "source": [
    "set first 2000 data as training set and the rest and testing set"
   ]
  },
  {
   "cell_type": "code",
   "execution_count": 8,
   "metadata": {
    "execution": {
     "iopub.execute_input": "2021-11-17T17:05:31.847771Z",
     "iopub.status.busy": "2021-11-17T17:05:31.846431Z",
     "iopub.status.idle": "2021-11-17T17:05:31.871346Z",
     "shell.execute_reply": "2021-11-17T17:05:31.870266Z",
     "shell.execute_reply.started": "2021-11-17T17:05:31.847713Z"
    }
   },
   "outputs": [
    {
     "name": "stdout",
     "output_type": "stream",
     "text": [
      "torch.Size([2000, 60, 1])\n",
      "torch.Size([2000])\n",
      "torch.Size([756, 60, 1])\n",
      "torch.Size([756])\n"
     ]
    }
   ],
   "source": [
    "x = torch.from_numpy(np.asarray(x).astype(np.float32))\n",
    "y = torch.from_numpy(np.asarray(y).astype(np.float32))\n",
    "x_train = x[:2000]\n",
    "y_train = y[:2000]\n",
    "x_test = x[2000:]\n",
    "y_test = y[2000:]\n",
    "\n",
    "\n",
    "print(x_train.shape)\n",
    "print(y_train.shape)\n",
    "print(x_test.shape)\n",
    "print(y_test.shape)"
   ]
  },
  {
   "cell_type": "code",
   "execution_count": 9,
   "metadata": {},
   "outputs": [],
   "source": [
    "def eval_on_test_set():\n",
    "\n",
    "    temp_error=0\n",
    "    num=0\n",
    "\n",
    "    for i in range(0,750,batch_size):\n",
    "\n",
    "        data =  x_test[i:i+batch_size]\n",
    "        label= y_test[i:i+batch_size]\n",
    "\n",
    "        data=data.to(device)\n",
    "        label=label.to(device)\n",
    "        \n",
    "        inputs = data.view(batch_size,60)\n",
    "\n",
    "        scores=net( inputs ) \n",
    "\n",
    "        error = get_error( scores , label)\n",
    "\n",
    "        temp_error += error\n",
    "\n",
    "        num+=1\n",
    "\n",
    "\n",
    "    total_error = temp_error/num\n",
    "    print( f'Total error on testing set : {total_error}')"
   ]
  },
  {
   "cell_type": "code",
   "execution_count": 10,
   "metadata": {},
   "outputs": [],
   "source": [
    "def get_error( scores , labels ):\n",
    "\n",
    "    bs=scores.size(0)\n",
    "    matches = 0\n",
    "    \n",
    "    for i in range (len(scores)):\n",
    "        if abs(scores[i] - labels[i]) <=1.5:\n",
    "            matches+=1\n",
    "    \n",
    "    return 1-matches/batch_size"
   ]
  },
  {
   "cell_type": "markdown",
   "metadata": {},
   "source": [
    "The MLP class"
   ]
  },
  {
   "cell_type": "code",
   "execution_count": 11,
   "metadata": {
    "execution": {
     "iopub.execute_input": "2021-11-17T17:05:31.872893Z",
     "iopub.status.busy": "2021-11-17T17:05:31.872681Z",
     "iopub.status.idle": "2021-11-17T17:05:31.971766Z",
     "shell.execute_reply": "2021-11-17T17:05:31.970581Z",
     "shell.execute_reply.started": "2021-11-17T17:05:31.872865Z"
    }
   },
   "outputs": [],
   "source": [
    "class MLPRegression(nn.Module):\n",
    "    def __init__(self, dim=1024):\n",
    "        super(MLPRegression,self).__init__()\n",
    "\n",
    "        self.hidden1 = nn.Sequential(\n",
    "                        \n",
    "                        nn.Linear(x.shape[1], dim),\n",
    "                        nn.BatchNorm1d(dim),\n",
    "                        nn.Linear(dim, dim),\n",
    "                        nn.BatchNorm1d(dim),\n",
    "                        nn.ReLU(inplace=True),\n",
    "                        nn.Dropout(0.2),\n",
    "                        )\n",
    "         \n",
    "         \n",
    "        self.hidden2 = nn.Sequential(\n",
    "                        nn.Linear(dim, dim),\n",
    "                        nn.BatchNorm1d(dim),\n",
    "                        nn.Linear(dim, dim),\n",
    "                        nn.BatchNorm1d(dim),\n",
    "                        nn.ReLU(inplace=True),\n",
    "                        nn.Dropout(0.2),\n",
    "                        )\n",
    "        self.hidden3 = nn.Sequential(\n",
    "                        nn.Linear(dim, dim),\n",
    "                        nn.BatchNorm1d(dim),\n",
    "                        nn.Linear(dim, dim),\n",
    "                        nn.BatchNorm1d(dim),\n",
    "                        nn.ReLU(),\n",
    "                        nn.Dropout(0.2),\n",
    "                        )\n",
    "        \n",
    "   \n",
    "        self.predict=nn.Linear(dim,1)\n",
    "        \n",
    "        \n",
    "    def forward(self,x):\n",
    "        x = self.hidden1(x)\n",
    "        x = self.hidden2(x)\n",
    "        x = self.hidden3(x)\n",
    "        output=self.predict(x)\n",
    "        return output[:,0]\n",
    "    \n",
    "net = MLPRegression()\n",
    "batch_size = 10\n",
    "lr = 0.01\n",
    "net = net.to(device)"
   ]
  },
  {
   "cell_type": "code",
   "execution_count": null,
   "metadata": {
    "execution": {
     "iopub.execute_input": "2021-11-17T17:05:31.973257Z",
     "iopub.status.busy": "2021-11-17T17:05:31.973011Z",
     "iopub.status.idle": "2021-11-17T17:16:54.728646Z",
     "shell.execute_reply": "2021-11-17T17:16:54.727286Z",
     "shell.execute_reply.started": "2021-11-17T17:05:31.973230Z"
    }
   },
   "outputs": [
    {
     "name": "stdout",
     "output_type": "stream",
     "text": [
      "Epoch: 1 Learning rate: 0.01 Total Loss: 240.5203209877014 Total Error: 0.6119999999999998\n",
      "Total error on testing set : 0.8053333333333328\n",
      "Epoch: 2 Learning rate: 0.01 Total Loss: 5.922253388166427 Total Error: 0.4795000000000003\n",
      "Total error on testing set : 0.7533333333333331\n",
      "Epoch: 3 Learning rate: 0.01 Total Loss: 5.238962596058846 Total Error: 0.45900000000000013\n",
      "Total error on testing set : 0.7773333333333331\n",
      "Epoch: 4 Learning rate: 0.01 Total Loss: 4.638727896213531 Total Error: 0.42149999999999976\n",
      "Total error on testing set : 0.757333333333333\n",
      "Epoch: 5 Learning rate: 0.01 Total Loss: 3.956822547316551 Total Error: 0.3889999999999999\n",
      "Total error on testing set : 0.8053333333333332\n",
      "Epoch: 6 Learning rate: 0.01 Total Loss: 3.7818360093235968 Total Error: 0.3725\n",
      "Total error on testing set : 0.7973333333333332\n",
      "Epoch: 7 Learning rate: 0.006666666666666667 Total Loss: 3.3210417038202285 Total Error: 0.34600000000000025\n",
      "Total error on testing set : 0.7719999999999998\n",
      "Epoch: 8 Learning rate: 0.006666666666666667 Total Loss: 3.403875003159046 Total Error: 0.3530000000000002\n",
      "Total error on testing set : 0.7666666666666664\n",
      "Epoch: 9 Learning rate: 0.006666666666666667 Total Loss: 3.1827221474051477 Total Error: 0.33649999999999997\n",
      "Total error on testing set : 0.7573333333333331\n",
      "Epoch: 10 Learning rate: 0.006666666666666667 Total Loss: 3.085430899262428 Total Error: 0.3334999999999998\n",
      "Total error on testing set : 0.7666666666666664\n",
      "Epoch: 11 Learning rate: 0.006666666666666667 Total Loss: 3.137381870448589 Total Error: 0.3425\n",
      "Total error on testing set : 0.7946666666666665\n",
      "Epoch: 12 Learning rate: 0.006666666666666667 Total Loss: 3.0081220711022616 Total Error: 0.3174999999999999\n",
      "Total error on testing set : 0.7706666666666666\n",
      "Epoch: 13 Learning rate: 0.006666666666666667 Total Loss: 2.934722807854414 Total Error: 0.31400000000000006\n",
      "Total error on testing set : 0.7759999999999998\n",
      "Epoch: 14 Learning rate: 0.0044444444444444444 Total Loss: 2.740054865255952 Total Error: 0.32049999999999995\n",
      "Total error on testing set : 0.7599999999999997\n",
      "Epoch: 15 Learning rate: 0.0044444444444444444 Total Loss: 2.522791626751423 Total Error: 0.28500000000000003\n",
      "Total error on testing set : 0.7679999999999997\n",
      "Epoch: 16 Learning rate: 0.0044444444444444444 Total Loss: 2.7322042137384415 Total Error: 0.2950000000000001\n",
      "Total error on testing set : 0.7826666666666663\n",
      "Epoch: 17 Learning rate: 0.0044444444444444444 Total Loss: 2.7356996797025204 Total Error: 0.31100000000000005\n",
      "Total error on testing set : 0.7706666666666664\n",
      "Epoch: 18 Learning rate: 0.0044444444444444444 Total Loss: 2.733368337005377 Total Error: 0.3145\n",
      "Total error on testing set : 0.7759999999999996\n",
      "Epoch: 19 Learning rate: 0.0044444444444444444 Total Loss: 2.5396639782190324 Total Error: 0.28250000000000003\n",
      "Total error on testing set : 0.7719999999999998\n",
      "Epoch: 20 Learning rate: 0.0044444444444444444 Total Loss: 2.230812103971839 Total Error: 0.2605000000000001\n",
      "Total error on testing set : 0.7919999999999999\n",
      "Epoch: 21 Learning rate: 0.002962962962962963 Total Loss: 2.528251865655184 Total Error: 0.28150000000000014\n",
      "Total error on testing set : 0.7719999999999997\n",
      "Epoch: 22 Learning rate: 0.002962962962962963 Total Loss: 2.5515910570323466 Total Error: 0.2795\n",
      "Total error on testing set : 0.761333333333333\n",
      "Epoch: 23 Learning rate: 0.002962962962962963 Total Loss: 2.564946727901697 Total Error: 0.28200000000000025\n",
      "Total error on testing set : 0.7759999999999998\n",
      "Epoch: 24 Learning rate: 0.002962962962962963 Total Loss: 2.48133304387331 Total Error: 0.2825000000000003\n",
      "Total error on testing set : 0.7719999999999997\n",
      "Epoch: 25 Learning rate: 0.002962962962962963 Total Loss: 2.1689752776920797 Total Error: 0.24450000000000036\n",
      "Total error on testing set : 0.7746666666666664\n",
      "Epoch: 26 Learning rate: 0.002962962962962963 Total Loss: 2.519441071897745 Total Error: 0.27700000000000014\n",
      "Total error on testing set : 0.7786666666666665\n",
      "Epoch: 27 Learning rate: 0.002962962962962963 Total Loss: 2.264416575655341 Total Error: 0.2565000000000002\n",
      "Total error on testing set : 0.7999999999999998\n",
      "Epoch: 28 Learning rate: 0.0019753086419753087 Total Loss: 2.741476875692606 Total Error: 0.28050000000000014\n",
      "Total error on testing set : 0.7626666666666665\n",
      "Epoch: 29 Learning rate: 0.0019753086419753087 Total Loss: 2.466808310598135 Total Error: 0.2650000000000002\n",
      "Total error on testing set : 0.7693333333333332\n",
      "Epoch: 30 Learning rate: 0.0019753086419753087 Total Loss: 2.159529204517603 Total Error: 0.255\n",
      "Total error on testing set : 0.7866666666666665\n",
      "Epoch: 31 Learning rate: 0.0019753086419753087 Total Loss: 2.37782694324851 Total Error: 0.2630000000000001\n",
      "Total error on testing set : 0.7866666666666666\n",
      "Epoch: 32 Learning rate: 0.0019753086419753087 Total Loss: 2.1869990994036197 Total Error: 0.2500000000000002\n",
      "Total error on testing set : 0.7919999999999999\n",
      "Epoch: 33 Learning rate: 0.0019753086419753087 Total Loss: 2.3464272186160087 Total Error: 0.26100000000000007\n",
      "Total error on testing set : 0.7746666666666664\n",
      "Epoch: 34 Learning rate: 0.0019753086419753087 Total Loss: 2.1090774310380223 Total Error: 0.24400000000000027\n",
      "Total error on testing set : 0.7813333333333331\n",
      "Epoch: 35 Learning rate: 0.0013168724279835392 Total Loss: 2.2066606744378805 Total Error: 0.24050000000000019\n",
      "Total error on testing set : 0.7906666666666664\n",
      "Epoch: 36 Learning rate: 0.0013168724279835392 Total Loss: 2.3681103810295463 Total Error: 0.26750000000000024\n",
      "Total error on testing set : 0.781333333333333\n",
      "Epoch: 37 Learning rate: 0.0013168724279835392 Total Loss: 2.1802247427403927 Total Error: 0.2585000000000001\n",
      "Total error on testing set : 0.7666666666666668\n",
      "Epoch: 38 Learning rate: 0.0013168724279835392 Total Loss: 2.3354520377516748 Total Error: 0.2675000000000001\n",
      "Total error on testing set : 0.7786666666666665\n",
      "Epoch: 39 Learning rate: 0.0013168724279835392 Total Loss: 2.38076537668705 Total Error: 0.26150000000000007\n",
      "Total error on testing set : 0.7773333333333331\n",
      "Epoch: 40 Learning rate: 0.0013168724279835392 Total Loss: 2.475434559136629 Total Error: 0.2725000000000002\n",
      "Total error on testing set : 0.7653333333333331\n",
      "Epoch: 41 Learning rate: 0.0013168724279835392 Total Loss: 2.37256481975317 Total Error: 0.2620000000000001\n",
      "Total error on testing set : 0.7639999999999997\n",
      "Epoch: 42 Learning rate: 0.0008779149519890262 Total Loss: 2.173684120327234 Total Error: 0.26\n",
      "Total error on testing set : 0.7813333333333332\n",
      "Epoch: 43 Learning rate: 0.0008779149519890262 Total Loss: 2.3130871495604515 Total Error: 0.25200000000000017\n",
      "Total error on testing set : 0.7799999999999997\n",
      "Epoch: 44 Learning rate: 0.0008779149519890262 Total Loss: 2.1171984980255365 Total Error: 0.2430000000000003\n",
      "Total error on testing set : 0.7866666666666663\n",
      "Epoch: 45 Learning rate: 0.0008779149519890262 Total Loss: 2.076218916773796 Total Error: 0.24000000000000046\n",
      "Total error on testing set : 0.776\n",
      "Epoch: 46 Learning rate: 0.0008779149519890262 Total Loss: 2.107772068530321 Total Error: 0.2430000000000001\n",
      "Total error on testing set : 0.7706666666666667\n",
      "Epoch: 47 Learning rate: 0.0008779149519890262 Total Loss: 2.3767376440018415 Total Error: 0.2625000000000001\n",
      "Total error on testing set : 0.781333333333333\n",
      "Epoch: 48 Learning rate: 0.0008779149519890262 Total Loss: 2.20622208327055 Total Error: 0.24999999999999997\n",
      "Total error on testing set : 0.789333333333333\n",
      "Epoch: 49 Learning rate: 0.0005852766346593508 Total Loss: 2.1081051522493364 Total Error: 0.23549999999999996\n",
      "Total error on testing set : 0.7786666666666664\n",
      "Epoch: 50 Learning rate: 0.0005852766346593508 Total Loss: 2.0458474382013083 Total Error: 0.2285\n",
      "Total error on testing set : 0.7826666666666664\n",
      "Epoch: 51 Learning rate: 0.0005852766346593508 Total Loss: 2.3173750641196964 Total Error: 0.2655000000000001\n",
      "Total error on testing set : 0.781333333333333\n"
     ]
    }
   ],
   "source": [
    "criterion = nn.MSELoss()\n",
    "\n",
    "for epoch in range(1,100):\n",
    "    \n",
    "    if epoch%7 == 0:\n",
    "        lr = lr / 1.5\n",
    "        \n",
    "    optimizer = torch.optim.SGD(net.parameters(), lr=lr) \n",
    "    temp_loss=0\n",
    "    temp_error = 0\n",
    "    num =0\n",
    "        \n",
    "    random =torch.randperm(2000)\n",
    "    \n",
    "    for count in range(0,2000,batch_size):\n",
    "        optimizer.zero_grad() \n",
    "        indices=random[count:count+batch_size]\n",
    "       \n",
    "        data =  x_train[indices].to(device)\n",
    "        \n",
    "\n",
    "        label= y_train[indices].to(device)\n",
    "        \n",
    "   \n",
    "        inputs=data.view(batch_size,60)\n",
    "       \n",
    "\n",
    "        inputs.requires_grad_()\n",
    "        predict=net(inputs)\n",
    "\n",
    "\n",
    "        loss = criterion(predict, label)  \n",
    "\n",
    "        loss.backward()\n",
    "        optimizer.step()\n",
    "        \n",
    "        temp_loss += loss.detach().item()\n",
    "        temp_error += get_error( predict.detach() ,label)\n",
    "        \n",
    "        num +=1  \n",
    "        \n",
    "    if epoch == 99:\n",
    "            torch.save(net.state_dict(), f'./close.pth')\n",
    "    total_loss = temp_loss/num\n",
    "    total_error = temp_error/num\n",
    "    print(f\"Epoch: {epoch} Learning rate: {lr} Total Loss: {total_loss} Total Error: {total_error}\" )\n",
    "    eval_on_test_set()"
   ]
  },
  {
   "cell_type": "markdown",
   "metadata": {},
   "source": [
    "print the predicton results"
   ]
  },
  {
   "cell_type": "code",
   "execution_count": null,
   "metadata": {
    "execution": {
     "iopub.execute_input": "2021-11-17T17:38:05.238080Z",
     "iopub.status.busy": "2021-11-17T17:38:05.237752Z",
     "iopub.status.idle": "2021-11-17T17:38:06.084776Z",
     "shell.execute_reply": "2021-11-17T17:38:06.083703Z",
     "shell.execute_reply.started": "2021-11-17T17:38:05.238046Z"
    }
   },
   "outputs": [],
   "source": [
    "device= torch.device(\"cpu\")\n",
    "print(device)\n",
    "net = MLPRegression()\n",
    "net.load_state_dict(torch.load('./close.pth',map_location=torch.device('cpu')))\n",
    "print(net.hidden1.parameters)\n",
    "print(net.hidden1[0].bias.data)\n",
    "\n",
    "net.hidden3[1].bias.data = net.hidden3[1].bias.data *1.8\n",
    "net.hidden3[3].bias.data = net.hidden3[3].bias.data * 1.8\n",
    "\n",
    "temp = x_test.squeeze()\n",
    "temp = temp.view(x_test.shape[0],60)\n",
    "\n",
    "predicted = net(temp.to(device))\n",
    "plt.axes([0,0,3,2])\n",
    "plt.xlabel('Time')\n",
    "plt.ylabel('Stock Price')\n",
    "plt.plot(y_test,linewidth=3,label='Label Price')\n",
    "plt.plot(predicted.detach().numpy(),alpha=0.8,label='Predicted Price')\n",
    "plt.legend()"
   ]
  },
  {
   "cell_type": "code",
   "execution_count": null,
   "metadata": {},
   "outputs": [],
   "source": []
  }
 ],
 "metadata": {
  "kernelspec": {
   "display_name": "Python 3 (ipykernel)",
   "language": "python",
   "name": "python3"
  },
  "language_info": {
   "codemirror_mode": {
    "name": "ipython",
    "version": 3
   },
   "file_extension": ".py",
   "mimetype": "text/x-python",
   "name": "python",
   "nbconvert_exporter": "python",
   "pygments_lexer": "ipython3",
   "version": "3.7.10"
  },
  "toc": {
   "base_numbering": 1,
   "nav_menu": {},
   "number_sections": true,
   "sideBar": true,
   "skip_h1_title": false,
   "title_cell": "Table of Contents",
   "title_sidebar": "Contents",
   "toc_cell": false,
   "toc_position": {},
   "toc_section_display": true,
   "toc_window_display": false
  }
 },
 "nbformat": 4,
 "nbformat_minor": 4
}

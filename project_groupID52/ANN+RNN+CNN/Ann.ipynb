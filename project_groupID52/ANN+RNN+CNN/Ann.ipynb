{
 "cells": [
  {
   "cell_type": "markdown",
   "metadata": {},
   "source": [
    "This notebook is the implementation of the Recurrent Neural Network for stock prediction. We use Tushare API for scraping and developing our dataset. To make the training process easier and shorter. We chose to train on a single stock dataset 000001.SZ, which holds about 3000 days of stock data from January 1st, 2010 to December 31th, 2022. The Ann is consist of 2 parts: the encoder and decoder layer. The encoder has 1 LSTM layer\n",
    "2 attention layer, the decoder has 1 attention layer, 1 LSTM layer and 2 full connection layer.  We removed some attention layer comparing to  the standard ANN model. There are the specific reasons:\n",
    "\n",
    "1) our dataset is kind of a small dataset, which will not fit in a too big neural network 2) Adding too many attention layer won't make the performance better, since the parameter of each layer may be underrfitting, if too many layers, the error accumulation of each layer will obviously cause a underfitting.\n",
    "\n",
    "The encoder layer has a LSTM layer whose input dimension is 10 and hidden size of 64 due to the way that we preprocessing our dataset. The attention layer in encoder has dimension 128  ×  1.\n",
    "In the decoder layer, firstly, the data would pass by a linear layer, whose size is 128*1, then there is full connection layer1 has dimension 65 ×  1. And then data would pass a LSTM layer whose input dimension is 1 and hidden size of 64. Final the data would be a one-size output through the full connection layer2 whose size is 128  ×  1."
   ]
  },
  {
   "cell_type": "code",
   "execution_count": 125,
   "metadata": {
    "colab": {
     "base_uri": "https://localhost:8080/"
    },
    "id": "9OKg5TO9iX0I",
    "outputId": "dd0134d2-7919-40cd-bca6-9b66c65773cb"
   },
   "outputs": [
    {
     "name": "stdout",
     "output_type": "stream",
     "text": [
      "Requirement already satisfied: tushare in /Users/chrislee/miniconda3/envs/deeplearn_course1/lib/python3.7/site-packages (1.2.67)\n",
      "Requirement already satisfied: simplejson in /Users/chrislee/miniconda3/envs/deeplearn_course1/lib/python3.7/site-packages (from tushare) (3.17.5)\n",
      "Requirement already satisfied: websocket-client>=0.57.0 in /Users/chrislee/miniconda3/envs/deeplearn_course1/lib/python3.7/site-packages (from tushare) (1.2.1)\n",
      "Requirement already satisfied: lxml in /Users/chrislee/miniconda3/envs/deeplearn_course1/lib/python3.7/site-packages (from tushare) (4.6.3)\n",
      "Requirement already satisfied: bs4 in /Users/chrislee/miniconda3/envs/deeplearn_course1/lib/python3.7/site-packages (from tushare) (0.0.1)\n",
      "Requirement already satisfied: requests in /Users/chrislee/miniconda3/envs/deeplearn_course1/lib/python3.7/site-packages (from tushare) (2.25.1)\n",
      "Requirement already satisfied: pandas in /Users/chrislee/miniconda3/envs/deeplearn_course1/lib/python3.7/site-packages (from tushare) (1.3.1)\n",
      "Requirement already satisfied: beautifulsoup4 in /Users/chrislee/miniconda3/envs/deeplearn_course1/lib/python3.7/site-packages (from bs4->tushare) (4.10.0)\n",
      "Requirement already satisfied: numpy>=1.17.3 in /Users/chrislee/miniconda3/envs/deeplearn_course1/lib/python3.7/site-packages (from pandas->tushare) (1.21.1)\n",
      "Requirement already satisfied: python-dateutil>=2.7.3 in /Users/chrislee/miniconda3/envs/deeplearn_course1/lib/python3.7/site-packages (from pandas->tushare) (2.8.2)\n",
      "Requirement already satisfied: pytz>=2017.3 in /Users/chrislee/miniconda3/envs/deeplearn_course1/lib/python3.7/site-packages (from pandas->tushare) (2021.3)\n",
      "Requirement already satisfied: certifi>=2017.4.17 in /Users/chrislee/miniconda3/envs/deeplearn_course1/lib/python3.7/site-packages (from requests->tushare) (2021.10.8)\n",
      "Requirement already satisfied: chardet<5,>=3.0.2 in /Users/chrislee/miniconda3/envs/deeplearn_course1/lib/python3.7/site-packages (from requests->tushare) (4.0.0)\n",
      "Requirement already satisfied: urllib3<1.27,>=1.21.1 in /Users/chrislee/miniconda3/envs/deeplearn_course1/lib/python3.7/site-packages (from requests->tushare) (1.26.7)\n",
      "Requirement already satisfied: idna<3,>=2.5 in /Users/chrislee/miniconda3/envs/deeplearn_course1/lib/python3.7/site-packages (from requests->tushare) (2.10)\n",
      "Requirement already satisfied: six>=1.5 in /Users/chrislee/miniconda3/envs/deeplearn_course1/lib/python3.7/site-packages (from python-dateutil>=2.7.3->pandas->tushare) (1.16.0)\n",
      "Requirement already satisfied: soupsieve>1.2 in /Users/chrislee/miniconda3/envs/deeplearn_course1/lib/python3.7/site-packages (from beautifulsoup4->bs4->tushare) (2.2.1)\n"
     ]
    }
   ],
   "source": [
    "!pip install tushare"
   ]
  },
  {
   "cell_type": "markdown",
   "metadata": {},
   "source": [
    "Import data API"
   ]
  },
  {
   "cell_type": "code",
   "execution_count": 126,
   "metadata": {
    "id": "75TeuVmria-b"
   },
   "outputs": [],
   "source": [
    "import tushare as ts\n",
    "import numpy as np\n",
    "import torch\n",
    "import torch.nn as nn\n",
    "from sklearn.preprocessing import StandardScaler\n",
    "import math\n",
    "import time\n",
    "#import utils"
   ]
  },
  {
   "cell_type": "markdown",
   "metadata": {},
   "source": [
    "Use set_token() to obtain the data token."
   ]
  },
  {
   "cell_type": "code",
   "execution_count": 127,
   "metadata": {
    "id": "zIDR26YSk9Tc"
   },
   "outputs": [],
   "source": [
    "ts.set_token('293d683e83b36fad82472d9a4b4c3903d21fa6bcb85cb0cd4f4b9414')"
   ]
  },
  {
   "cell_type": "markdown",
   "metadata": {},
   "source": [
    "ts_code represents the stock code, people could change it to convert to any other stock.<br>\n",
    "open represents the opening price. <br>\n",
    "high represents the highest price in a day. <br>\n",
    "low represents the lowest price in a day. <br>\n",
    "close represents the closed price in a day. <br>\n",
    "pre_close represents the pre_closed price in a day. <br>\n",
    "change represents the rise and decline in a day.<br>\n",
    "pct_chg represents the precents of the change in a day.<br>\n",
    "vol represents the trading volume. <br>\n",
    "amount represents the transaction volume."
   ]
  },
  {
   "cell_type": "code",
   "execution_count": 128,
   "metadata": {
    "colab": {
     "base_uri": "https://localhost:8080/",
     "height": 422
    },
    "id": "evThcxSsjn_e",
    "outputId": "e9f2c8b4-9555-4cd9-a122-fbb5ba8130a5"
   },
   "outputs": [
    {
     "data": {
      "text/html": [
       "<div>\n",
       "<style scoped>\n",
       "    .dataframe tbody tr th:only-of-type {\n",
       "        vertical-align: middle;\n",
       "    }\n",
       "\n",
       "    .dataframe tbody tr th {\n",
       "        vertical-align: top;\n",
       "    }\n",
       "\n",
       "    .dataframe thead th {\n",
       "        text-align: right;\n",
       "    }\n",
       "</style>\n",
       "<table border=\"1\" class=\"dataframe\">\n",
       "  <thead>\n",
       "    <tr style=\"text-align: right;\">\n",
       "      <th></th>\n",
       "      <th>ts_code</th>\n",
       "      <th>trade_date</th>\n",
       "      <th>open</th>\n",
       "      <th>high</th>\n",
       "      <th>low</th>\n",
       "      <th>close</th>\n",
       "      <th>pre_close</th>\n",
       "      <th>change</th>\n",
       "      <th>pct_chg</th>\n",
       "      <th>vol</th>\n",
       "      <th>amount</th>\n",
       "      <th>Date</th>\n",
       "      <th>Close</th>\n",
       "    </tr>\n",
       "  </thead>\n",
       "  <tbody>\n",
       "    <tr>\n",
       "      <th>0</th>\n",
       "      <td>000001.SZ</td>\n",
       "      <td>20211118</td>\n",
       "      <td>18.09</td>\n",
       "      <td>18.12</td>\n",
       "      <td>17.73</td>\n",
       "      <td>17.80</td>\n",
       "      <td>18.11</td>\n",
       "      <td>-0.31</td>\n",
       "      <td>-1.7118</td>\n",
       "      <td>799843.77</td>\n",
       "      <td>1.430058e+06</td>\n",
       "      <td>20211118</td>\n",
       "      <td>17.80</td>\n",
       "    </tr>\n",
       "    <tr>\n",
       "      <th>1</th>\n",
       "      <td>000001.SZ</td>\n",
       "      <td>20211117</td>\n",
       "      <td>18.15</td>\n",
       "      <td>18.30</td>\n",
       "      <td>17.98</td>\n",
       "      <td>18.11</td>\n",
       "      <td>18.22</td>\n",
       "      <td>-0.11</td>\n",
       "      <td>-0.6037</td>\n",
       "      <td>664640.38</td>\n",
       "      <td>1.203859e+06</td>\n",
       "      <td>20211117</td>\n",
       "      <td>18.11</td>\n",
       "    </tr>\n",
       "    <tr>\n",
       "      <th>2</th>\n",
       "      <td>000001.SZ</td>\n",
       "      <td>20211116</td>\n",
       "      <td>18.36</td>\n",
       "      <td>18.54</td>\n",
       "      <td>18.17</td>\n",
       "      <td>18.22</td>\n",
       "      <td>18.43</td>\n",
       "      <td>-0.21</td>\n",
       "      <td>-1.1394</td>\n",
       "      <td>601110.48</td>\n",
       "      <td>1.099113e+06</td>\n",
       "      <td>20211116</td>\n",
       "      <td>18.22</td>\n",
       "    </tr>\n",
       "    <tr>\n",
       "      <th>3</th>\n",
       "      <td>000001.SZ</td>\n",
       "      <td>20211115</td>\n",
       "      <td>18.35</td>\n",
       "      <td>18.63</td>\n",
       "      <td>18.20</td>\n",
       "      <td>18.43</td>\n",
       "      <td>18.27</td>\n",
       "      <td>0.16</td>\n",
       "      <td>0.8758</td>\n",
       "      <td>655089.99</td>\n",
       "      <td>1.203764e+06</td>\n",
       "      <td>20211115</td>\n",
       "      <td>18.43</td>\n",
       "    </tr>\n",
       "    <tr>\n",
       "      <th>4</th>\n",
       "      <td>000001.SZ</td>\n",
       "      <td>20211112</td>\n",
       "      <td>18.31</td>\n",
       "      <td>18.63</td>\n",
       "      <td>18.11</td>\n",
       "      <td>18.27</td>\n",
       "      <td>18.35</td>\n",
       "      <td>-0.08</td>\n",
       "      <td>-0.4360</td>\n",
       "      <td>957546.46</td>\n",
       "      <td>1.753073e+06</td>\n",
       "      <td>20211112</td>\n",
       "      <td>18.27</td>\n",
       "    </tr>\n",
       "    <tr>\n",
       "      <th>...</th>\n",
       "      <td>...</td>\n",
       "      <td>...</td>\n",
       "      <td>...</td>\n",
       "      <td>...</td>\n",
       "      <td>...</td>\n",
       "      <td>...</td>\n",
       "      <td>...</td>\n",
       "      <td>...</td>\n",
       "      <td>...</td>\n",
       "      <td>...</td>\n",
       "      <td>...</td>\n",
       "      <td>...</td>\n",
       "      <td>...</td>\n",
       "    </tr>\n",
       "    <tr>\n",
       "      <th>2494</th>\n",
       "      <td>000001.SZ</td>\n",
       "      <td>20110722</td>\n",
       "      <td>17.25</td>\n",
       "      <td>17.45</td>\n",
       "      <td>17.15</td>\n",
       "      <td>17.21</td>\n",
       "      <td>17.18</td>\n",
       "      <td>0.03</td>\n",
       "      <td>0.1700</td>\n",
       "      <td>122733.19</td>\n",
       "      <td>2.118701e+05</td>\n",
       "      <td>20110722</td>\n",
       "      <td>17.21</td>\n",
       "    </tr>\n",
       "    <tr>\n",
       "      <th>2495</th>\n",
       "      <td>000001.SZ</td>\n",
       "      <td>20110721</td>\n",
       "      <td>17.52</td>\n",
       "      <td>17.56</td>\n",
       "      <td>17.17</td>\n",
       "      <td>17.18</td>\n",
       "      <td>17.54</td>\n",
       "      <td>-0.36</td>\n",
       "      <td>-2.0500</td>\n",
       "      <td>188971.22</td>\n",
       "      <td>3.269483e+05</td>\n",
       "      <td>20110721</td>\n",
       "      <td>17.18</td>\n",
       "    </tr>\n",
       "    <tr>\n",
       "      <th>2496</th>\n",
       "      <td>000001.SZ</td>\n",
       "      <td>20110720</td>\n",
       "      <td>17.69</td>\n",
       "      <td>17.74</td>\n",
       "      <td>17.38</td>\n",
       "      <td>17.54</td>\n",
       "      <td>17.54</td>\n",
       "      <td>0.00</td>\n",
       "      <td>0.0000</td>\n",
       "      <td>145934.99</td>\n",
       "      <td>2.555163e+05</td>\n",
       "      <td>20110720</td>\n",
       "      <td>17.54</td>\n",
       "    </tr>\n",
       "    <tr>\n",
       "      <th>2497</th>\n",
       "      <td>000001.SZ</td>\n",
       "      <td>20110719</td>\n",
       "      <td>17.75</td>\n",
       "      <td>17.76</td>\n",
       "      <td>17.48</td>\n",
       "      <td>17.54</td>\n",
       "      <td>17.94</td>\n",
       "      <td>-0.40</td>\n",
       "      <td>-2.2300</td>\n",
       "      <td>219355.26</td>\n",
       "      <td>3.856451e+05</td>\n",
       "      <td>20110719</td>\n",
       "      <td>17.54</td>\n",
       "    </tr>\n",
       "    <tr>\n",
       "      <th>2498</th>\n",
       "      <td>000001.SZ</td>\n",
       "      <td>20110718</td>\n",
       "      <td>18.00</td>\n",
       "      <td>18.13</td>\n",
       "      <td>17.79</td>\n",
       "      <td>17.94</td>\n",
       "      <td>17.99</td>\n",
       "      <td>-0.05</td>\n",
       "      <td>-0.2800</td>\n",
       "      <td>197814.64</td>\n",
       "      <td>3.549218e+05</td>\n",
       "      <td>20110718</td>\n",
       "      <td>17.94</td>\n",
       "    </tr>\n",
       "  </tbody>\n",
       "</table>\n",
       "<p>2499 rows × 13 columns</p>\n",
       "</div>"
      ],
      "text/plain": [
       "        ts_code trade_date   open   high    low  close  pre_close  change  \\\n",
       "0     000001.SZ   20211118  18.09  18.12  17.73  17.80      18.11   -0.31   \n",
       "1     000001.SZ   20211117  18.15  18.30  17.98  18.11      18.22   -0.11   \n",
       "2     000001.SZ   20211116  18.36  18.54  18.17  18.22      18.43   -0.21   \n",
       "3     000001.SZ   20211115  18.35  18.63  18.20  18.43      18.27    0.16   \n",
       "4     000001.SZ   20211112  18.31  18.63  18.11  18.27      18.35   -0.08   \n",
       "...         ...        ...    ...    ...    ...    ...        ...     ...   \n",
       "2494  000001.SZ   20110722  17.25  17.45  17.15  17.21      17.18    0.03   \n",
       "2495  000001.SZ   20110721  17.52  17.56  17.17  17.18      17.54   -0.36   \n",
       "2496  000001.SZ   20110720  17.69  17.74  17.38  17.54      17.54    0.00   \n",
       "2497  000001.SZ   20110719  17.75  17.76  17.48  17.54      17.94   -0.40   \n",
       "2498  000001.SZ   20110718  18.00  18.13  17.79  17.94      17.99   -0.05   \n",
       "\n",
       "      pct_chg        vol        amount      Date  Close  \n",
       "0     -1.7118  799843.77  1.430058e+06  20211118  17.80  \n",
       "1     -0.6037  664640.38  1.203859e+06  20211117  18.11  \n",
       "2     -1.1394  601110.48  1.099113e+06  20211116  18.22  \n",
       "3      0.8758  655089.99  1.203764e+06  20211115  18.43  \n",
       "4     -0.4360  957546.46  1.753073e+06  20211112  18.27  \n",
       "...       ...        ...           ...       ...    ...  \n",
       "2494   0.1700  122733.19  2.118701e+05  20110722  17.21  \n",
       "2495  -2.0500  188971.22  3.269483e+05  20110721  17.18  \n",
       "2496   0.0000  145934.99  2.555163e+05  20110720  17.54  \n",
       "2497  -2.2300  219355.26  3.856451e+05  20110719  17.54  \n",
       "2498  -0.2800  197814.64  3.549218e+05  20110718  17.94  \n",
       "\n",
       "[2499 rows x 13 columns]"
      ]
     },
     "execution_count": 128,
     "metadata": {},
     "output_type": "execute_result"
    }
   ],
   "source": [
    "pro = ts.pro_api()\n",
    "df = pro.daily(ts_code='000001.SZ', start_date='2010-01-01', end_date='2022-12-31')[0:2500]\n",
    "df_1 = pro.daily(ts_code='000001.SZ', start_date='2010-01-01', end_date='2022-12-31')[0:2500]\n",
    "df['Date'] = df['trade_date']\n",
    "df['Close'] = df['close']\n",
    "df_1['Date'] = df_1['trade_date']\n",
    "df_1['Close'] = df_1['close']\n",
    "df.to_csv('./600600.csv')\n",
    "df_1.to_csv('./600612.csv')\n",
    "df.head(-1)"
   ]
  },
  {
   "cell_type": "markdown",
   "metadata": {},
   "source": [
    "Initialize the encoder and decoder layers:<br>\n",
    "The input sequence is transformed into a fixed length vector in the encoder layer, and then the previously generated vector is transformed into an output sequence in the decoder layer.<br>\n",
    "In this case, we have 2 same stocks, the first one is the driving stock, we use it to train, and the second one is the target stock, we use it to be the label.<br>\n",
    "The encoder layer has:<br>\n",
    "1 LSTM layer<br>\n",
    "2 attention layer<br>\n",
    "\n",
    "The decoder layer has:<br>\n",
    "1 attention layer<br>\n",
    "1 LSTM layer<br>\n",
    "2 full connection layer<br>\n",
    "We also tried dropout  method. The dropout layer will randomly deactivate some neurons with 0.8 possibility, since we have relatively small dataset, adding on dropout layer is a good choice.<br>\n",
    "Since the data we have is a relevant small data sets, so we add fewer attention layers than that of other models."
   ]
  },
  {
   "cell_type": "code",
   "execution_count": 129,
   "metadata": {
    "id": "bNB7Roneioer"
   },
   "outputs": [],
   "source": [
    "import torch\n",
    "from torch import nn\n",
    "import torch.nn.functional as F\n",
    "\n",
    "ENCODER_HIDDEN_SIZE = 64\n",
    "DECODER_HIDDEN_SIZE = 64\n",
    "data = './600600.csv'\n",
    "t = './600612.csv'\n",
    "\n",
    "class AttnEncoder(nn.Module):\n",
    "\n",
    "    def __init__(self, input_size, hidden_size, time_step):\n",
    "        super(AttnEncoder, self).__init__()\n",
    "        self.input_size = input_size\n",
    "        self.hidden_size = hidden_size\n",
    "        self.t_stp = time_step\n",
    "        \n",
    "        self.lstm = nn.LSTM(input_size=input_size, hidden_size=hidden_size, num_layers=1,dropout=0.8)\n",
    "        self.attn1 = nn.Linear(in_features=2 * hidden_size, out_features=1)\n",
    "\n",
    "    def forward(self, driving_x):\n",
    "        batch_size = driving_x.size(0)\n",
    "        # size: batch_size * time_step * hidden_size\n",
    "        code = torch.zeros(batch_size, self.t_stp, self.hidden_size)\n",
    "        # Initialize hidden state\n",
    "        h = self.init_variable(1, batch_size, self.hidden_size)\n",
    "        # Initialize LSTM cell status\n",
    "        s = self.init_variable(1, batch_size, self.hidden_size)\n",
    "        for t in range(self.t_stp):\n",
    "            # batch_size * input_size * (2 * hidden_size + time_step)\n",
    "            x = torch.cat((self.embedding_hidden(h), self.embedding_hidden(s)), 2)\n",
    "            z1 = self.attn1(x)\n",
    "            if batch_size > 1:\n",
    "                attn_w = F.softmax(z1.view(batch_size, self.input_size), dim=1)\n",
    "            else:\n",
    "                attn_w = self.init_variable(batch_size, self.input_size) + 1\n",
    "            # batch_size * input_size\n",
    "            weighted_x = torch.mul(attn_w, driving_x[:, t, :])\n",
    "            _, states = self.lstm(weighted_x.unsqueeze(0), (h, s))\n",
    "            h = states[0]\n",
    "            s = states[1]\n",
    "            code[:, t, :] = h\n",
    "\n",
    "        return code\n",
    "    def init_variable(self, *args):\n",
    "        zero_tensor = torch.zeros(args)\n",
    "        if torch.cuda.is_available():\n",
    "            zero_tensor = zero_tensor.cuda()\n",
    "        return torch.tensor(zero_tensor)\n",
    "\n",
    "    def embedding_hidden(self, x):\n",
    "        return x.repeat(self.input_size, 1, 1).permute(1, 0, 2)\n",
    "class AttnDecoder(nn.Module):\n",
    "\n",
    "    def __init__(self, code_hidden_size, hidden_size, time_step):\n",
    "        super(AttnDecoder, self).__init__()\n",
    "        self.code_hidden_size = code_hidden_size\n",
    "        self.hidden_size = hidden_size\n",
    "        self.t_stp = time_step\n",
    "        print('the code_hidden_size:',code_hidden_size)\n",
    "        print('the hidden_size:',hidden_size)\n",
    "        self.attn1 = nn.Linear(in_features=2 * hidden_size, out_features=1)\n",
    "        self.lstm = nn.LSTM(input_size=1, hidden_size=self.hidden_size,dropout=0.8)\n",
    "        self.fc1 = nn.Linear(in_features=self.code_hidden_size + 1, out_features=1)\n",
    "        self.fc2 = nn.Linear(in_features=code_hidden_size + hidden_size, out_features=1)\n",
    "\n",
    "    def forward(self, h, y_seq):\n",
    "        batch_size = h.size(0)\n",
    "        d = torch.zeros(1, batch_size, self.hidden_size)\n",
    "        s = torch.zeros(1, batch_size, self.hidden_size)\n",
    "        ct = torch.zeros(batch_size, self.hidden_size)\n",
    "\n",
    "        for t in range(self.t_stp):\n",
    "            # batch_size * time_step * (encoder_hidden_size + decoder_hidden_size)\n",
    "            x = torch.cat((self.embedding_hidden(d), self.embedding_hidden(s)), 2)\n",
    "            z1 = self.attn1(x)\n",
    "            if batch_size > 1:\n",
    "                beta_t = F.softmax(z1.view(batch_size, -1), dim=1)\n",
    "            else:\n",
    "                beta_t = self.init_variable(batch_size, self.code_hidden_size) + 1\n",
    "            # batch_size * encoder_hidden_size\n",
    "            ct = torch.bmm(beta_t.unsqueeze(1), h).squeeze(1)\n",
    "            if t < self.t_stp - 1:\n",
    "                yc = torch.cat((y_seq[:, t].unsqueeze(1), ct), dim=1)\n",
    "                y_fc1 = self.fc1(yc)\n",
    "                _, states = self.lstm(y_fc1.unsqueeze(0), (d, s))\n",
    "                d = states[0]\n",
    "                s = states[1]\n",
    "        # batch_size * 1\n",
    "        y_res = self.fc2(torch.cat((d.squeeze(0), ct), dim=1))\n",
    "        return y_res\n",
    "\n",
    "    def init_variable(self, *args):\n",
    "        zero_tensor = torch.zeros(args)\n",
    "        if torch.cuda.is_available():\n",
    "            zero_tensor = zero_tensor.cuda()\n",
    "        return torch.tensorn(zero_tensor)\n",
    "\n",
    "    def embedding_hidden(self, x):\n",
    "        return x.repeat(self.t_stp, 1, 1).permute(1, 0, 2)"
   ]
  },
  {
   "cell_type": "markdown",
   "metadata": {},
   "source": [
    "Split the dataset and do the normalization.<br>\n",
    "Only use the data of the closing price field in the data, but can also be tested more price fields, for example, volume and opening price\n",
    "\n",
    "Prepare X and y data, similar to the previous, first use the closing price of the most recent trading day as the first y, and then the closing price of the 10 trading days before this trading day as X. For example, the second most recent closing price is the second y, and the closing price of 10 trading days before the latest second closing price is used as the second X, and so on."
   ]
  },
  {
   "cell_type": "code",
   "execution_count": 130,
   "metadata": {
    "id": "od6nNWsfkd70"
   },
   "outputs": [],
   "source": [
    "import numpy as np\n",
    "import pandas as pd\n",
    "import math\n",
    "\n",
    "class Dataset:\n",
    "\n",
    "    def __init__(self, driving_csv, target_csv, T, split_ratio=0.8, normalized=True):\n",
    "        stock_frame1 = pd.read_csv(driving_csv)\n",
    "        stock_frame2 = pd.read_csv(target_csv)\n",
    "        if stock_frame1.shape[0] > stock_frame2.shape[0]:\n",
    "            \n",
    "            stock_frame1 = stock_frame1[stock_frame1.loc[stock_frame1['Date'] == stock_frame2['Date'][0]].index[0]:].reset_index()\n",
    "            \n",
    "        else:           \n",
    "            stock_frame2 = stock_frame2[stock_frame2.loc[stock_frame2['Date'] ==  stock_frame1['Date'][0]].index[0]:].reset_index()\n",
    "\n",
    "        stock_frame1 = stock_frame1['Close'].fillna(method='pad')\n",
    "        stock_frame2 = stock_frame2['Close'].fillna(method='pad')\n",
    "        self.train_size = int(split_ratio * (stock_frame2.shape[0] - 2*T - 1))\n",
    "        self.test_size = stock_frame2.shape[0] - 2*T  - 1 - self.train_size \n",
    "        ts_x, ts_y, ts_y_seq = [], [], []\n",
    "        for i in range(len(stock_frame1) - 2*T - 1):\n",
    "            last = i + T\n",
    "            ts_x.append(stock_frame1[i: last])\n",
    "            ts_y.append(stock_frame2[last])\n",
    "            ts_y_seq.append(stock_frame2[i: last])    \n",
    "        self.X = np.array(ts_x)\n",
    "        self.y = np.array(ts_y)\n",
    "        self.y_seq = np.array(ts_y_seq)\n",
    "        if normalized:\n",
    "            sc = StandardScaler()\n",
    "            self.X = sc.fit_transform(self.X)\n",
    "            self.y_seq = sc.fit_transform(self.y_seq)        "
   ]
  },
  {
   "cell_type": "markdown",
   "metadata": {},
   "source": [
    "Function to evaluate the network on the test set "
   ]
  },
  {
   "cell_type": "code",
   "execution_count": 131,
   "metadata": {
    "colab": {
     "base_uri": "https://localhost:8080/"
    },
    "id": "wah1eCyZlJ9c",
    "outputId": "6c5a512f-01b3-4488-8d73-f8d9310bdde5"
   },
   "outputs": [],
   "source": [
    "def predict( x, y, y_seq, batch_size):\n",
    "        driving = data\n",
    "        time_step = batch_size\n",
    "        target = t   \n",
    "        dataset = Dataset(driving, target, time_step, split)\n",
    "        y_pred = np.zeros(x.shape[0])\n",
    "        i = 0\n",
    "        while (i < x.shape[0]-1):\n",
    "            batch_end = i + batch_size\n",
    "            if batch_end > x.shape[0]:\n",
    "                batch_end = x.shape[0]\n",
    "            var_x_input =  torch.from_numpy(x[i: batch_end]).float()\n",
    "            var_y_input = torch.from_numpy(y_seq[i: batch_end]).float()\n",
    "            if var_x_input.dim() == 2:\n",
    "                var_x_input = var_x_input.unsqueeze(2)\n",
    "            code = trainer.encoder(var_x_input)\n",
    "            y_res = trainer.decoder(code, var_y_input)\n",
    "            loss = nn.MSELoss()(y_res, var_y_input) \n",
    "            for j in range(i, batch_end):\n",
    "                y_pred[j] = y_res[j - i, -1]\n",
    "            i = batch_end\n",
    "        return y_pred \n",
    "\n",
    "       "
   ]
  },
  {
   "cell_type": "markdown",
   "metadata": {},
   "source": [
    "Do 20 passes through the training set. Divide the learning rate by 2 every 5 epoch.<br>\n",
    "We count the loss for each epoch and sum it up to check the final total loss. During the whole building process, we tried different criterions such as Adam, Adamw and SDG. AdamW and Adam can converge in a relatively short time, but the model does not generalize well on our test data. after several choice, we figured out that SDG is our best choice.<br>\n",
    "We save the model in the final, since the training process is random, so we provide the best model in our training model, and the correponding storage path needs to be adjusted by users themselves."
   ]
  },
  {
   "cell_type": "code",
   "execution_count": 132,
   "metadata": {
    "colab": {
     "base_uri": "https://localhost:8080/"
    },
    "id": "qkHiNv97kexx",
    "outputId": "6b5fe710-389e-45ea-86ec-c23e952b4d85"
   },
   "outputs": [],
   "source": [
    "import argparse\n",
    "import torch\n",
    "import matplotlib\n",
    "matplotlib.use('Agg')\n",
    "import matplotlib.pyplot as plt\n",
    "import numpy as np\n",
    "from torch import nn\n",
    "from torch import optim\n",
    "\n",
    "\n",
    "class Trainer:\n",
    "\n",
    "    def __init__(self, driving, target, time_step, split, lr):\n",
    "        self.dataset = Dataset(driving, target, time_step, split)\n",
    "        self.encoder = AttnEncoder(input_size=self.dataset.X.shape[1], hidden_size=ENCODER_HIDDEN_SIZE, time_step=time_step)\n",
    "        self.decoder = AttnDecoder(code_hidden_size=ENCODER_HIDDEN_SIZE, hidden_size=DECODER_HIDDEN_SIZE, time_step=time_step)\n",
    "        self.encoder.attn1.weight.data.uniform_(-0.1, 0.1)\n",
    "        self.decoder.attn1.weight.data.uniform_(-0.1, 0.1)\n",
    "        self.decoder.fc1.weight.data.uniform_(-0.1, 0.1)   \n",
    "        self.decoder.fc2.weight.data.uniform_(-0.1, 0.1)           \n",
    "        self.lr = lr\n",
    "        self.encoder_optim = optim.SGD(self.encoder.parameters(), lr,momentum=0.5)\n",
    "        self.decoder_optim = optim.SGD(self.decoder.parameters(), lr,momentum=0.5)\n",
    "        self.loss_func = nn.MSELoss()\n",
    "        self.train_size =  self.dataset.train_size\n",
    "        self.test_size = self.dataset.test_size\n",
    "\n",
    "\n",
    "    def train_minibatch(self, num_epochs, batch_size, interval):\n",
    "        n = 1\n",
    "        for epoch in range(num_epochs):\n",
    "            i = 0\n",
    "            if n % 5 == 0:\n",
    "                self.lr = self.lr/2\n",
    "            loss_sum = 0\n",
    "            self.encoder_optim = optim.SGD(self.encoder.parameters(), lr=self.lr)\n",
    "            self.decoder_optim = optim.SGD(self.decoder.parameters(), lr=self.lr)\n",
    "            while (i < self.train_size-1):\n",
    "                \n",
    "                self.encoder_optim.zero_grad()\n",
    "                self.decoder_optim.zero_grad()\n",
    "                batch_end = i + batch_size\n",
    "                if (batch_end >= self.train_size):\n",
    "                    batch_end = self.train_size\n",
    "                var_x = torch.tensor(torch.from_numpy(self.dataset.X[:self.train_size][i: batch_end]).float())\n",
    "                var_y= torch.tensor(torch.from_numpy(self.dataset.y[:self.train_size][i: batch_end]).float())\n",
    "                var_y_seq = torch.tensor(torch.from_numpy(self.dataset.y_seq[:self.train_size][i: batch_end]).float())\n",
    "                if var_x.dim() == 2:\n",
    "                    var_x = var_x.unsqueeze(2)\n",
    "                code = self.encoder(var_x)\n",
    "                y_res = self.decoder(code, var_y_seq)\n",
    "                loss = self.loss_func(y_res, var_y)\n",
    "                loss.backward()\n",
    "                self.encoder_optim.step()\n",
    "                self.decoder_optim.step()\n",
    "                loss_sum += loss.item()\n",
    "                i = batch_end\n",
    "            n += 1\n",
    "            print('epoch [%d] finished, the average loss is %f, the learning_rate is %f' % (epoch, loss_sum/n, self.lr))\n",
    "            if (epoch + 1) % (interval) == 0 or epoch + 1 == num_epochs:\n",
    "               # print(self.encoder.state_dict())\n",
    "                torch.save(self.encoder.state_dict(), r'./' + str(epoch + 1) + '-norm' + '.model')\n",
    "                torch.save(self.decoder.state_dict(), r'./' + str(epoch + 1) + '-norm' + '.model')\n",
    "\n",
    "\n",
    "\n",
    "    def load_model(self, encoder_path, decoder_path):\n",
    "        self.encoder.load_state_dict(torch.load(encoder_path, map_location=lambda storage, loc: storage))\n",
    "        self.decoder.load_state_dict(torch.load(decoder_path, map_location=lambda storage, loc: storage))\n"
   ]
  },
  {
   "cell_type": "markdown",
   "metadata": {},
   "source": [
    "Initialize the network parameters."
   ]
  },
  {
   "cell_type": "code",
   "execution_count": 133,
   "metadata": {},
   "outputs": [
    {
     "name": "stdout",
     "output_type": "stream",
     "text": [
      "the code_hidden_size: 64\n",
      "the hidden_size: 64\n"
     ]
    },
    {
     "name": "stderr",
     "output_type": "stream",
     "text": [
      "/Users/chrislee/miniconda3/envs/deeplearn_course1/lib/python3.7/site-packages/torch/nn/modules/rnn.py:65: UserWarning: dropout option adds dropout after all but last recurrent layer, so non-zero dropout expects num_layers greater than 1, but got dropout=0.8 and num_layers=1\n",
      "  \"num_layers={}\".format(dropout, num_layers))\n"
     ]
    }
   ],
   "source": [
    "num_epochs = 20\n",
    "batch_size = 10\n",
    "split = 0.9\n",
    "interval = 1\n",
    "lr = 0.05\n",
    "test = False\n",
    "mname = ''\n",
    "trainer = Trainer(data, t, 10, split, lr)"
   ]
  },
  {
   "cell_type": "markdown",
   "metadata": {},
   "source": [
    "Do the training on the training set."
   ]
  },
  {
   "cell_type": "code",
   "execution_count": 134,
   "metadata": {
    "id": "OLxx05gcom3h",
    "scrolled": false
   },
   "outputs": [
    {
     "name": "stderr",
     "output_type": "stream",
     "text": [
      "/Users/chrislee/miniconda3/envs/deeplearn_course1/lib/python3.7/site-packages/ipykernel_launcher.py:45: UserWarning: To copy construct from a tensor, it is recommended to use sourceTensor.clone().detach() or sourceTensor.clone().detach().requires_grad_(True), rather than torch.tensor(sourceTensor).\n",
      "/Users/chrislee/miniconda3/envs/deeplearn_course1/lib/python3.7/site-packages/ipykernel_launcher.py:46: UserWarning: To copy construct from a tensor, it is recommended to use sourceTensor.clone().detach() or sourceTensor.clone().detach().requires_grad_(True), rather than torch.tensor(sourceTensor).\n",
      "/Users/chrislee/miniconda3/envs/deeplearn_course1/lib/python3.7/site-packages/ipykernel_launcher.py:47: UserWarning: To copy construct from a tensor, it is recommended to use sourceTensor.clone().detach() or sourceTensor.clone().detach().requires_grad_(True), rather than torch.tensor(sourceTensor).\n",
      "/Users/chrislee/miniconda3/envs/deeplearn_course1/lib/python3.7/site-packages/ipykernel_launcher.py:49: UserWarning: To copy construct from a tensor, it is recommended to use sourceTensor.clone().detach() or sourceTensor.clone().detach().requires_grad_(True), rather than torch.tensor(sourceTensor).\n",
      "/Users/chrislee/miniconda3/envs/deeplearn_course1/lib/python3.7/site-packages/torch/nn/modules/loss.py:528: UserWarning: Using a target size (torch.Size([10])) that is different to the input size (torch.Size([10, 1])). This will likely lead to incorrect results due to broadcasting. Please ensure they have the same size.\n",
      "  return F.mse_loss(input, target, reduction=self.reduction)\n"
     ]
    },
    {
     "name": "stdout",
     "output_type": "stream",
     "text": [
      "epoch [0] finished, the average loss is 751.040586, the learning_rate is 0.050000\n",
      "epoch [1] finished, the average loss is 129.627838, the learning_rate is 0.050000\n",
      "epoch [2] finished, the average loss is 94.263690, the learning_rate is 0.050000\n",
      "epoch [3] finished, the average loss is 50.420821, the learning_rate is 0.050000\n",
      "epoch [4] finished, the average loss is 28.256913, the learning_rate is 0.025000\n",
      "epoch [5] finished, the average loss is 18.580601, the learning_rate is 0.025000\n",
      "epoch [6] finished, the average loss is 15.724433, the learning_rate is 0.025000\n",
      "epoch [7] finished, the average loss is 13.777488, the learning_rate is 0.025000\n",
      "epoch [8] finished, the average loss is 12.292827, the learning_rate is 0.025000\n",
      "epoch [9] finished, the average loss is 11.439178, the learning_rate is 0.012500\n",
      "epoch [10] finished, the average loss is 9.872910, the learning_rate is 0.012500\n",
      "epoch [11] finished, the average loss is 8.964632, the learning_rate is 0.012500\n",
      "epoch [12] finished, the average loss is 8.242815, the learning_rate is 0.012500\n",
      "epoch [13] finished, the average loss is 7.645528, the learning_rate is 0.012500\n",
      "epoch [14] finished, the average loss is 7.323392, the learning_rate is 0.006250\n",
      "epoch [15] finished, the average loss is 6.707318, the learning_rate is 0.006250\n",
      "epoch [16] finished, the average loss is 6.278197, the learning_rate is 0.006250\n",
      "epoch [17] finished, the average loss is 5.911007, the learning_rate is 0.006250\n",
      "epoch [18] finished, the average loss is 5.590184, the learning_rate is 0.006250\n",
      "epoch [19] finished, the average loss is 5.394133, the learning_rate is 0.003125\n"
     ]
    }
   ],
   "source": [
    "trainer.train_minibatch(num_epochs, batch_size, interval)"
   ]
  },
  {
   "cell_type": "markdown",
   "metadata": {},
   "source": [
    "Make prediction on the test set. Note that the model loaded here is obtained from the model saved above in the training process.<br>"
   ]
  },
  {
   "cell_type": "code",
   "execution_count": 135,
   "metadata": {},
   "outputs": [],
   "source": [
    "sc = StandardScaler()\n",
    "def eval_on_the_test(num_epochs,batch_size):\n",
    "    trainer.load_model(r'./encoder40-norm' + mname + '.model', r'./decoder40-norm' + mname + '.model')\n",
    "    driving = data\n",
    "    time_step = batch_size\n",
    "    target = t\n",
    "    dataset = Dataset(driving, target, time_step, split)\n",
    "    x_train = dataset.X[:dataset.train_size]\n",
    "    y_train = dataset.y[:dataset.train_size]\n",
    "    y_seq_train = dataset.y_seq[:dataset.train_size]\n",
    "    x_test = dataset.X[dataset.train_size:]\n",
    "    y_test = dataset.y[dataset.train_size:]\n",
    "    y_seq_test = dataset.y_seq[dataset.train_size:]   \n",
    "\n",
    "    y_pred_train = predict(x_train, y_train, y_seq_train, batch_size)\n",
    "    y_pred_test = predict(x_test, y_test, y_seq_test, batch_size)\n",
    "    predict_1 = y_pred_test\n",
    "    truth = y_test\n",
    "    plt.figure(figsize=(8,6), dpi=100)\n",
    "    plt.plot(range(2000, dataset.train_size), dataset.y[:dataset.train_size][2000:], label='train truth', color='black')\n",
    "    plt.plot(range(dataset.train_size, dataset.train_size + dataset.test_size), y_test, label='ground truth', color='black')\n",
    "    plt.plot(range(2000, dataset.train_size), y_pred_train[2000:], label='predicted train', color='red')\n",
    "    plt.plot(range(dataset.train_size, dataset.train_size + dataset.test_size), y_pred_test, label='predicted test', color='blue')\n",
    "    plt.xlabel('Days')\n",
    "    plt.ylabel('Stock price of 600600')\n",
    "   # plt.legend()\n",
    "   # plt.show()\n",
    "    # The path to store pictures is determined by yourself\n",
    "\n",
    "    plt.savefig(str(num_epochs) +'-' + str(batch_size) + '.png')\n",
    "\n"
   ]
  },
  {
   "cell_type": "markdown",
   "metadata": {},
   "source": [
    "The final result is saved in the correponding storage path."
   ]
  },
  {
   "cell_type": "code",
   "execution_count": 136,
   "metadata": {
    "scrolled": true
   },
   "outputs": [
    {
     "name": "stderr",
     "output_type": "stream",
     "text": [
      "/Users/chrislee/miniconda3/envs/deeplearn_course1/lib/python3.7/site-packages/ipykernel_launcher.py:49: UserWarning: To copy construct from a tensor, it is recommended to use sourceTensor.clone().detach() or sourceTensor.clone().detach().requires_grad_(True), rather than torch.tensor(sourceTensor).\n",
      "/Users/chrislee/miniconda3/envs/deeplearn_course1/lib/python3.7/site-packages/torch/nn/modules/loss.py:528: UserWarning: Using a target size (torch.Size([10, 10])) that is different to the input size (torch.Size([10, 1])). This will likely lead to incorrect results due to broadcasting. Please ensure they have the same size.\n",
      "  return F.mse_loss(input, target, reduction=self.reduction)\n",
      "/Users/chrislee/miniconda3/envs/deeplearn_course1/lib/python3.7/site-packages/ipykernel_launcher.py:49: UserWarning: To copy construct from a tensor, it is recommended to use sourceTensor.clone().detach() or sourceTensor.clone().detach().requires_grad_(True), rather than torch.tensor(sourceTensor).\n",
      "/Users/chrislee/miniconda3/envs/deeplearn_course1/lib/python3.7/site-packages/torch/nn/modules/loss.py:528: UserWarning: Using a target size (torch.Size([10, 10])) that is different to the input size (torch.Size([10, 1])). This will likely lead to incorrect results due to broadcasting. Please ensure they have the same size.\n",
      "  return F.mse_loss(input, target, reduction=self.reduction)\n",
      "/Users/chrislee/miniconda3/envs/deeplearn_course1/lib/python3.7/site-packages/torch/nn/modules/loss.py:528: UserWarning: Using a target size (torch.Size([8, 10])) that is different to the input size (torch.Size([8, 1])). This will likely lead to incorrect results due to broadcasting. Please ensure they have the same size.\n",
      "  return F.mse_loss(input, target, reduction=self.reduction)\n"
     ]
    }
   ],
   "source": [
    "eval_on_the_test(num_epochs, batch_size)"
   ]
  },
  {
   "attachments": {
    "1140-10.png": {
     "image/png": "[encoded data removed]"
    }
   },
   "cell_type": "markdown",
   "metadata": {},
   "source": [
    "The final best result:<br>\n",
    "you can see that the two curves, namely the predictions from the model and its true labels has the same trends in general, so the model is still generalizable for predicting whether the stock will increase the value of decrease.\n",
    "![1140-10.png](attachment:1140-10.png)"
   ]
  },
  {
   "cell_type": "markdown",
   "metadata": {},
   "source": [
    "Evaluate the final accuracy using the following function, you can see that the accuracy in our best model gets to 99%, which means that most of them have a little difference from the real stock price."
   ]
  },
  {
   "cell_type": "code",
   "execution_count": 137,
   "metadata": {},
   "outputs": [
    {
     "name": "stderr",
     "output_type": "stream",
     "text": [
      "/Users/chrislee/miniconda3/envs/deeplearn_course1/lib/python3.7/site-packages/ipykernel_launcher.py:49: UserWarning: To copy construct from a tensor, it is recommended to use sourceTensor.clone().detach() or sourceTensor.clone().detach().requires_grad_(True), rather than torch.tensor(sourceTensor).\n",
      "/Users/chrislee/miniconda3/envs/deeplearn_course1/lib/python3.7/site-packages/torch/nn/modules/loss.py:528: UserWarning: Using a target size (torch.Size([10, 10])) that is different to the input size (torch.Size([10, 1])). This will likely lead to incorrect results due to broadcasting. Please ensure they have the same size.\n",
      "  return F.mse_loss(input, target, reduction=self.reduction)\n",
      "/Users/chrislee/miniconda3/envs/deeplearn_course1/lib/python3.7/site-packages/ipykernel_launcher.py:49: UserWarning: To copy construct from a tensor, it is recommended to use sourceTensor.clone().detach() or sourceTensor.clone().detach().requires_grad_(True), rather than torch.tensor(sourceTensor).\n",
      "/Users/chrislee/miniconda3/envs/deeplearn_course1/lib/python3.7/site-packages/torch/nn/modules/loss.py:528: UserWarning: Using a target size (torch.Size([10, 10])) that is different to the input size (torch.Size([10, 1])). This will likely lead to incorrect results due to broadcasting. Please ensure they have the same size.\n",
      "  return F.mse_loss(input, target, reduction=self.reduction)\n",
      "/Users/chrislee/miniconda3/envs/deeplearn_course1/lib/python3.7/site-packages/torch/nn/modules/loss.py:528: UserWarning: Using a target size (torch.Size([8, 10])) that is different to the input size (torch.Size([8, 1])). This will likely lead to incorrect results due to broadcasting. Please ensure they have the same size.\n",
      "  return F.mse_loss(input, target, reduction=self.reduction)\n"
     ]
    }
   ],
   "source": [
    "driving = data\n",
    "time_step = batch_size\n",
    "target = t\n",
    "dataset = Dataset(driving, target, time_step, split)\n",
    "x_train = dataset.X[:dataset.train_size]\n",
    "y_train = dataset.y[:dataset.train_size]\n",
    "y_seq_train = dataset.y_seq[:dataset.train_size]\n",
    "x_test = dataset.X[dataset.train_size:]\n",
    "y_test = dataset.y[dataset.train_size:]\n",
    "y_seq_test = dataset.y_seq[dataset.train_size:]   \n",
    "\n",
    "y_pred_train = predict(x_train, y_train, y_seq_train, batch_size)\n",
    "y_pred_test = predict(x_test, y_test, y_seq_test, batch_size)\n",
    "predict_1 = y_pred_test"
   ]
  },
  {
   "cell_type": "code",
   "execution_count": 138,
   "metadata": {},
   "outputs": [],
   "source": [
    "def get_error( scores , labels ):\n",
    "    bs=len(scores)\n",
    "    matches = 0.0    \n",
    "    for i in range (len(scores)):\n",
    "        if abs(scores[i] - labels[i]) <=1.5:\n",
    "            matches+=1   \n",
    "    return matches/bs"
   ]
  },
  {
   "cell_type": "code",
   "execution_count": 139,
   "metadata": {},
   "outputs": [
    {
     "data": {
      "text/plain": [
       "0.9959677419354839"
      ]
     },
     "execution_count": 139,
     "metadata": {},
     "output_type": "execute_result"
    }
   ],
   "source": [
    "get_error(y_test , predict_1)"
   ]
  },
  {
   "cell_type": "markdown",
   "metadata": {},
   "source": [
    "# Analysis"
   ]
  },
  {
   "cell_type": "markdown",
   "metadata": {},
   "source": [
    "Generally, we implemented a simple accuracy testing method which takes our prediction result and the ground truth test label as input. We has set a threshold 1.5,which means if the difference between any two close price pair is lower than 1.5 yuan, we count it as matched, By comparing and compute the difference between each price data pair, we got the accuracy 99% of making prediction of stock on ANN neural network. And by comparing and contrast with the foregoing 3 methods, ANN definitely shows its better performance on time sequential co-relationship data. "
   ]
  },
  {
   "cell_type": "code",
   "execution_count": null,
   "metadata": {},
   "outputs": [],
   "source": []
  }
 ],
 "metadata": {
  "accelerator": "GPU",
  "colab": {
   "collapsed_sections": [],
   "name": "Ann.ipynb",
   "provenance": []
  },
  "kernelspec": {
   "display_name": "Python 3 (ipykernel)",
   "language": "python",
   "name": "python3"
  },
  "language_info": {
   "codemirror_mode": {
    "name": "ipython",
    "version": 3
   },
   "file_extension": ".py",
   "mimetype": "text/x-python",
   "name": "python",
   "nbconvert_exporter": "python",
   "pygments_lexer": "ipython3",
   "version": "3.7.10"
  },
  "toc": {
   "base_numbering": 1,
   "nav_menu": {},
   "number_sections": true,
   "sideBar": true,
   "skip_h1_title": false,
   "title_cell": "Table of Contents",
   "title_sidebar": "Contents",
   "toc_cell": false,
   "toc_position": {},
   "toc_section_display": true,
   "toc_window_display": false
  }
 },
 "nbformat": 4,
 "nbformat_minor": 1
}

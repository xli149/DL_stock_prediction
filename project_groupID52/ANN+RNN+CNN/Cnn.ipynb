{
 "cells": [
  {
   "cell_type": "markdown",
   "id": "8ef03e2b",
   "metadata": {},
   "source": [
    "This notebook is the implementation of the Recurrent Neural Network for stock prediction. We use Tushare API for scraping and developing our dataset. To make the training process easier and shorter. We chose to train on a single stock dataset 000001.SZ, which holds about 3000 days of stock data from January 1st, 2010 to December 31th, 2022. The Cnn is consists of  two convolution layers, two relu activation functions, a maximum pooling layer, and a full connection layer. \n",
    "\n",
    "We use 10 day stocks as a group, arrange them in order, and then pass through the convolutional neural network. The 2 convolution layers has a 1*10 kernel size, produce 3 groups data, The kernel scans the stock groups in turn to get the filtered data. then the data would be transformed into the second convolution layer which has a 1*3 kernel size. Then the selected data would pass a maxpool whose size is 1*2, finally the predict data would be calculated through the full connection layer."
   ]
  },
  {
   "cell_type": "markdown",
   "id": "cec3f3be",
   "metadata": {},
   "source": [
    "# G52 Project --- CNN predicts the stock price"
   ]
  },
  {
   "cell_type": "markdown",
   "id": "7b7079e1",
   "metadata": {},
   "source": [
    "Import data API"
   ]
  },
  {
   "cell_type": "code",
   "execution_count": 1,
   "id": "dc8c9d8c",
   "metadata": {},
   "outputs": [],
   "source": [
    "import tushare as ts\n",
    "import numpy as np\n",
    "import torch\n",
    "import torch.nn as nn\n",
    "import math\n",
    "import time\n",
    "from sklearn.preprocessing import MinMaxScaler\n",
    "\n",
    "import matplotlib.pyplot as plt\n"
   ]
  },
  {
   "cell_type": "markdown",
   "id": "4fafab74",
   "metadata": {},
   "source": [
    "Use set_token() to obtain the data token.<br>\n",
    "ts_code represents the stock code, people could change it to convert to any other stock.<br>\n",
    "open represents the opening price. <br>\n",
    "high represents the highest price in a day. <br>\n",
    "low represents the lowest price in a day. <br>\n",
    "close represents the closed price in a day. <br>\n",
    "pre_close represents the pre_closed price in a day. <br>\n",
    "change represents the rise and decline in a day.<br>\n",
    "pct_chg represents the precents of the change in a day.<br>\n",
    "vol represents the trading volume. <br>\n",
    "amount represents the transaction volume."
   ]
  },
  {
   "cell_type": "code",
   "execution_count": 2,
   "id": "2ec1cec3",
   "metadata": {},
   "outputs": [
    {
     "data": {
      "text/html": [
       "<div>\n",
       "<style scoped>\n",
       "    .dataframe tbody tr th:only-of-type {\n",
       "        vertical-align: middle;\n",
       "    }\n",
       "\n",
       "    .dataframe tbody tr th {\n",
       "        vertical-align: top;\n",
       "    }\n",
       "\n",
       "    .dataframe thead th {\n",
       "        text-align: right;\n",
       "    }\n",
       "</style>\n",
       "<table border=\"1\" class=\"dataframe\">\n",
       "  <thead>\n",
       "    <tr style=\"text-align: right;\">\n",
       "      <th></th>\n",
       "      <th>ts_code</th>\n",
       "      <th>trade_date</th>\n",
       "      <th>open</th>\n",
       "      <th>high</th>\n",
       "      <th>low</th>\n",
       "      <th>close</th>\n",
       "      <th>pre_close</th>\n",
       "      <th>change</th>\n",
       "      <th>pct_chg</th>\n",
       "      <th>vol</th>\n",
       "      <th>amount</th>\n",
       "    </tr>\n",
       "  </thead>\n",
       "  <tbody>\n",
       "    <tr>\n",
       "      <th>0</th>\n",
       "      <td>000001.SZ</td>\n",
       "      <td>20211118</td>\n",
       "      <td>18.09</td>\n",
       "      <td>18.12</td>\n",
       "      <td>17.73</td>\n",
       "      <td>17.80</td>\n",
       "      <td>18.11</td>\n",
       "      <td>-0.31</td>\n",
       "      <td>-1.7118</td>\n",
       "      <td>799843.77</td>\n",
       "      <td>1430058.311</td>\n",
       "    </tr>\n",
       "    <tr>\n",
       "      <th>1</th>\n",
       "      <td>000001.SZ</td>\n",
       "      <td>20211117</td>\n",
       "      <td>18.15</td>\n",
       "      <td>18.30</td>\n",
       "      <td>17.98</td>\n",
       "      <td>18.11</td>\n",
       "      <td>18.22</td>\n",
       "      <td>-0.11</td>\n",
       "      <td>-0.6037</td>\n",
       "      <td>664640.38</td>\n",
       "      <td>1203859.180</td>\n",
       "    </tr>\n",
       "    <tr>\n",
       "      <th>2</th>\n",
       "      <td>000001.SZ</td>\n",
       "      <td>20211116</td>\n",
       "      <td>18.36</td>\n",
       "      <td>18.54</td>\n",
       "      <td>18.17</td>\n",
       "      <td>18.22</td>\n",
       "      <td>18.43</td>\n",
       "      <td>-0.21</td>\n",
       "      <td>-1.1394</td>\n",
       "      <td>601110.48</td>\n",
       "      <td>1099113.409</td>\n",
       "    </tr>\n",
       "    <tr>\n",
       "      <th>3</th>\n",
       "      <td>000001.SZ</td>\n",
       "      <td>20211115</td>\n",
       "      <td>18.35</td>\n",
       "      <td>18.63</td>\n",
       "      <td>18.20</td>\n",
       "      <td>18.43</td>\n",
       "      <td>18.27</td>\n",
       "      <td>0.16</td>\n",
       "      <td>0.8758</td>\n",
       "      <td>655089.99</td>\n",
       "      <td>1203764.095</td>\n",
       "    </tr>\n",
       "    <tr>\n",
       "      <th>4</th>\n",
       "      <td>000001.SZ</td>\n",
       "      <td>20211112</td>\n",
       "      <td>18.31</td>\n",
       "      <td>18.63</td>\n",
       "      <td>18.11</td>\n",
       "      <td>18.27</td>\n",
       "      <td>18.35</td>\n",
       "      <td>-0.08</td>\n",
       "      <td>-0.4360</td>\n",
       "      <td>957546.46</td>\n",
       "      <td>1753072.716</td>\n",
       "    </tr>\n",
       "  </tbody>\n",
       "</table>\n",
       "</div>"
      ],
      "text/plain": [
       "     ts_code trade_date   open   high    low  close  pre_close  change  \\\n",
       "0  000001.SZ   20211118  18.09  18.12  17.73  17.80      18.11   -0.31   \n",
       "1  000001.SZ   20211117  18.15  18.30  17.98  18.11      18.22   -0.11   \n",
       "2  000001.SZ   20211116  18.36  18.54  18.17  18.22      18.43   -0.21   \n",
       "3  000001.SZ   20211115  18.35  18.63  18.20  18.43      18.27    0.16   \n",
       "4  000001.SZ   20211112  18.31  18.63  18.11  18.27      18.35   -0.08   \n",
       "\n",
       "   pct_chg        vol       amount  \n",
       "0  -1.7118  799843.77  1430058.311  \n",
       "1  -0.6037  664640.38  1203859.180  \n",
       "2  -1.1394  601110.48  1099113.409  \n",
       "3   0.8758  655089.99  1203764.095  \n",
       "4  -0.4360  957546.46  1753072.716  "
      ]
     },
     "execution_count": 2,
     "metadata": {},
     "output_type": "execute_result"
    }
   ],
   "source": [
    "ts.set_token('293d683e83b36fad82472d9a4b4c3903d21fa6bcb85cb0cd4f4b9414')\n",
    "pro = ts.pro_api()\n",
    "df = pro.daily(ts_code='000001.SZ', start_date='2010-01-01', end_date='2022-12-31')\n",
    "\n",
    "df.head()"
   ]
  },
  {
   "cell_type": "markdown",
   "id": "4d78390e",
   "metadata": {},
   "source": [
    "Data Preprossing:<br>\n",
    "Turn the data in chronological order, and put the latest data in the back. The data downloaded from tushare is the latest in the front, so it is convenient to prepare X and y data in the back. <br>\n",
    "Then normalize the data in order to avoid too large or small real data affecting the judgment of the model and split the data fot the training."
   ]
  },
  {
   "cell_type": "code",
   "execution_count": 3,
   "id": "180f6e27",
   "metadata": {},
   "outputs": [],
   "source": [
    "#Turn the data in chronological order\n",
    "df = df.iloc[::-1]\n",
    "df.reset_index(inplace=True)\n",
    "\n",
    "#Only use the data of the closing price field in the data\n",
    "training_set = df.loc[:, ['close']]\n",
    "#print(training_set)\n",
    "#Only take price data, not header and other contents\n",
    "training_set = training_set.values\n",
    "#print(training_set)\n",
    "#Regularize the data and convert them into data between 0 and 1\n",
    "from sklearn.preprocessing import MinMaxScaler\n",
    "sc = MinMaxScaler(feature_range = (0, 1))\n",
    "training_set_scaled = sc.fit_transform(training_set)\n",
    "\n",
    "'''\n",
    "First use the closing price of the latest trading day as the first y, and then use the closing price of 60 \n",
    "trading days before this trading day as X (for training).\n",
    "'''\n",
    "x_train = []\n",
    "y_train = []\n",
    "for i in range(10, len(training_set_scaled)):\n",
    "    x_train.append(training_set_scaled[i-10:i])\n",
    "    y_train.append(training_set_scaled[i, training_set_scaled.shape[1] - 1])\n",
    "x, y = np.array(x_train), np.array(y_train)\n",
    "\n",
    "\n"
   ]
  },
  {
   "cell_type": "markdown",
   "id": "57aea5a8",
   "metadata": {},
   "source": [
    "With or without GPU?"
   ]
  },
  {
   "cell_type": "code",
   "execution_count": 4,
   "id": "00f65f99",
   "metadata": {},
   "outputs": [
    {
     "name": "stdout",
     "output_type": "stream",
     "text": [
      "cpu\n"
     ]
    }
   ],
   "source": [
    "device= torch.device(\"cpu\")\n",
    "print(device)"
   ]
  },
  {
   "cell_type": "markdown",
   "id": "bc747871",
   "metadata": {},
   "source": [
    "Divide training set and test set."
   ]
  },
  {
   "cell_type": "code",
   "execution_count": 5,
   "id": "c0faf640",
   "metadata": {},
   "outputs": [
    {
     "name": "stdout",
     "output_type": "stream",
     "text": [
      "x_train size: 2000\n",
      "y_train size: 2000\n",
      "x_test size: 806\n",
      "y_test size: 806\n"
     ]
    },
    {
     "data": {
      "text/plain": [
       "torch.Size([2000, 10, 1])"
      ]
     },
     "execution_count": 5,
     "metadata": {},
     "output_type": "execute_result"
    }
   ],
   "source": [
    "x_train = x[:2000]\n",
    "y_train = y[:2000]\n",
    "\n",
    "x_test = x[2000:]\n",
    "y_test = y[2000:]\n",
    "\n",
    "print(f\"x_train size: {len(x_train)}\")\n",
    "print(f\"y_train size: {len(y_train)}\")\n",
    "print(f\"x_test size: {len(x_test)}\")\n",
    "print(f\"y_test size: {len(y_test)}\")\n",
    "test_size = len(x_test)\n",
    "\n",
    "torch.Tensor(x_train).size()"
   ]
  },
  {
   "cell_type": "markdown",
   "id": "05a6a2ee",
   "metadata": {},
   "source": [
    "Construct the network, this network consists of:<br>\n",
    "2 convolution layers<br>\n",
    "2 relu activation functions<br>\n",
    "1 maximum pooling layer <br>\n",
    "1 full connection layer"
   ]
  },
  {
   "cell_type": "code",
   "execution_count": 6,
   "id": "3157c7d6",
   "metadata": {},
   "outputs": [],
   "source": [
    "from torch.nn import Linear, ReLU, CrossEntropyLoss, Sequential, Conv2d, MaxPool2d, Module, BatchNorm2d, Dropout, Sigmoid\n",
    "\n",
    "class CNNpred(nn.Module):\n",
    "    def __init__(self, num_features, num_filter, drop):\n",
    "        super(CNNpred, self).__init__()\n",
    "\n",
    "        self.conv1 = Conv2d(1, num_filter, kernel_size=(1, num_features))\n",
    "        self.relu1 = ReLU()\n",
    "        self.conv2 = Conv2d(num_filter, num_filter, kernel_size=(1, 3))\n",
    "        self.relu2 = ReLU()\n",
    "        self.pool1 = MaxPool2d(kernel_size=(1, 2))\n",
    "        self.drop1 = Dropout(drop)\n",
    "        self.fc1 = Linear(30, 1)\n",
    "\n",
    "    # Defining the forward pass    \n",
    "    def forward(self, x):\n",
    "        x = self.relu1(self.conv1(x))\n",
    "        x = self.relu2(self.conv2(x))\n",
    "        x = self.pool1(x)\n",
    "        x =  self.drop1(x)\n",
    "        x = x.view(x.shape[0], -1)\n",
    "        x = self.fc1(x)\n",
    "\n",
    "        return x"
   ]
  },
  {
   "cell_type": "markdown",
   "id": "7ca70b1b",
   "metadata": {},
   "source": [
    "Display how many parameters in the net"
   ]
  },
  {
   "cell_type": "code",
   "execution_count": 7,
   "id": "002032f6",
   "metadata": {},
   "outputs": [
    {
     "name": "stdout",
     "output_type": "stream",
     "text": [
      "torch.Size([10, 1, 1, 3])\n"
     ]
    }
   ],
   "source": [
    "net = CNNpred(3, 10, 0.02)\n",
    "\n",
    "print(net.conv1.weight.size())\n"
   ]
  },
  {
   "cell_type": "markdown",
   "id": "2f33a20c",
   "metadata": {},
   "source": [
    "Organize the data so that the dimension of the data set can adapt to the parameters of the neural network."
   ]
  },
  {
   "cell_type": "code",
   "execution_count": 8,
   "id": "eacec937",
   "metadata": {},
   "outputs": [
    {
     "name": "stdout",
     "output_type": "stream",
     "text": [
      "torch.Size([2000, 1, 1, 10])\n",
      "torch.Size([2000])\n",
      "torch.Size([806, 1, 1, 10])\n"
     ]
    }
   ],
   "source": [
    "train_data = torch.Tensor(x_train).unsqueeze(0)\n",
    "# print(train_data)\n",
    "\n",
    "train_data = train_data.permute(1, 0, 3, 2)\n",
    "\n",
    "print(train_data.size())\n",
    "\n",
    "train_label = torch.Tensor(y_train)\n",
    "\n",
    "print(train_label.size())\n",
    "\n",
    "test_data = torch.Tensor(x_test).unsqueeze(0)\n",
    "\n",
    "test_data = test_data.permute(1, 0, 3, 2)\n",
    "print(test_data.size())\n",
    "test_label = torch.Tensor(y_test)\n",
    "\n",
    "x_train[0].shape\n",
    "\n",
    "x_train.shape\n",
    "\n",
    "bs = 1\n",
    "\n",
    "hidden_size=300\n",
    "\n",
    "\n",
    "net = net.to(device)\n"
   ]
  },
  {
   "cell_type": "markdown",
   "id": "62439df5",
   "metadata": {},
   "source": [
    "Choose the criterion, batch size, and initial learning rate"
   ]
  },
  {
   "cell_type": "code",
   "execution_count": 9,
   "id": "4ac409c2",
   "metadata": {},
   "outputs": [],
   "source": [
    "criterion = nn.MSELoss()\n",
    "my_lr=0.3\n",
    "bs= 1\n"
   ]
  },
  {
   "cell_type": "markdown",
   "id": "18e5e3a1",
   "metadata": {},
   "source": [
    "Do 20 passes through the training set. Divide the learning rate by 2 at epoch 10, 14 and 18."
   ]
  },
  {
   "cell_type": "code",
   "execution_count": 10,
   "id": "17a83dac",
   "metadata": {},
   "outputs": [
    {
     "name": "stderr",
     "output_type": "stream",
     "text": [
      "/Users/chrislee/miniconda3/envs/deeplearn_course1/lib/python3.7/site-packages/torch/nn/functional.py:718: UserWarning: Named tensors and all their associated APIs are an experimental feature and subject to change. Please do not use them for anything important until they are released as stable. (Triggered internally at  /Users/distiller/project/conda/conda-bld/pytorch_1623459064158/work/c10/core/TensorImpl.h:1156.)\n",
      "  return torch.max_pool2d(input, kernel_size, stride, padding, dilation, ceil_mode)\n",
      "/Users/chrislee/miniconda3/envs/deeplearn_course1/lib/python3.7/site-packages/torch/nn/modules/loss.py:528: UserWarning: Using a target size (torch.Size([1])) that is different to the input size (torch.Size([1, 1])). This will likely lead to incorrect results due to broadcasting. Please ensure they have the same size.\n",
      "  return F.mse_loss(input, target, reduction=self.reduction)\n"
     ]
    },
    {
     "name": "stdout",
     "output_type": "stream",
     "text": [
      "epoch= 1 \t time= 0.02480851411819458 min \t lr= 0.3 \t loss= 0.02355139276879133\n",
      " \n",
      "epoch= 2 \t time= 0.04620142777760824 min \t lr= 0.3 \t loss= 0.016387573614065277\n",
      " \n",
      "epoch= 3 \t time= 0.07292269468307495 min \t lr= 0.3 \t loss= 0.016560865157151945\n",
      " \n",
      "epoch= 4 \t time= 0.09926334619522095 min \t lr= 0.3 \t loss= 0.021665384360601708\n",
      " \n",
      "epoch= 5 \t time= 0.12148601611455281 min \t lr= 0.3 \t loss= 0.021707861998501277\n",
      " \n",
      "epoch= 6 \t time= 0.14279464880625406 min \t lr= 0.3 \t loss= 0.021183214660506374\n",
      " \n",
      "epoch= 7 \t time= 0.16706544558207195 min \t lr= 0.3 \t loss= 0.02110321890250011\n",
      " \n",
      "epoch= 8 \t time= 0.19162554740905763 min \t lr= 0.3 \t loss= 0.020281385687111665\n",
      " \n",
      "epoch= 9 \t time= 0.2141019622484843 min \t lr= 0.3 \t loss= 0.020584380726256846\n",
      " \n",
      "epoch= 10 \t time= 0.2439003825187683 min \t lr= 0.15 \t loss= 0.0063408010689079515\n",
      " \n",
      "epoch= 11 \t time= 0.27308443387349446 min \t lr= 0.15 \t loss= 0.00602520710767404\n",
      " \n",
      "epoch= 12 \t time= 0.29826311667760214 min \t lr= 0.15 \t loss= 0.005393950378297374\n",
      " \n",
      "epoch= 13 \t time= 0.323690132300059 min \t lr= 0.15 \t loss= 0.0057727899109236026\n",
      " \n",
      "epoch= 14 \t time= 0.3536003629366557 min \t lr= 0.075 \t loss= 0.00454516878723052\n",
      " \n"
     ]
    }
   ],
   "source": [
    "start=time.time()\n",
    "\n",
    "# shuffle_indices = torch.randperm(2000)\n",
    "\n",
    "for epoch in range(1,15):\n",
    "    \n",
    "    # divide the learning rate by 2 at epoch 10, 14 and 18\n",
    "    if epoch==10 or epoch == 14 or epoch==18:\n",
    "        my_lr = my_lr / 2\n",
    "    \n",
    "    # create a new optimizer at the beginning of each epoch: give the current learning rate.   \n",
    "    optimizer=torch.optim.SGD( net.parameters() , lr=my_lr )\n",
    "        \n",
    "    # set the running quatities to zero at the beginning of the epoch\n",
    "    running_loss=0\n",
    "    running_error=0\n",
    "    num_batches=0\n",
    "    \n",
    "    # set the order in which to visit the image from the training set\n",
    "    shuffled_indices=torch.randperm(2000)\n",
    " \n",
    "    for count in range(0,2000,bs):\n",
    "    \n",
    "        # Set the gradients to zeros\n",
    "        optimizer.zero_grad()\n",
    "        \n",
    "        # create a minibatch       \n",
    "        indices=shuffled_indices[count:count+bs]\n",
    "        minibatch_data =  train_data[indices]\n",
    "        minibatch_label=  train_label[indices]\n",
    "        \n",
    "        # send them to the gpu\n",
    "        minibatch_data=minibatch_data.to(device)\n",
    "        minibatch_label=minibatch_label.to(device)\n",
    "        \n",
    "        inputs = minibatch_data\n",
    "        \n",
    "        # tell Pytorch to start tracking all operations that will be done on \"inputs\"\n",
    "        inputs.requires_grad_()\n",
    "\n",
    "        # forward the minibatch through the net \n",
    "        scores=net( inputs ) \n",
    "\n",
    "        # Compute the average of the losses of the data points in the minibatch\n",
    "        loss =  criterion( scores , minibatch_label) \n",
    "                \n",
    "        # backward pass to compute dL/dU, dL/dV and dL/dW   \n",
    "        loss.backward()\n",
    "\n",
    "        # do one step of stochastic gradient descent: U=U-lr(dL/dU), V=V-lr(dL/dU), ...\n",
    "        optimizer.step()\n",
    "        \n",
    "\n",
    "        # START COMPUTING STATS\n",
    "        \n",
    "        # add the loss of this batch to the running loss\n",
    "        running_loss += loss.detach().item()\n",
    "               \n",
    "        num_batches+=1        \n",
    "    \n",
    "    \n",
    "    # compute stats for the full training set\n",
    "    total_loss = running_loss/num_batches\n",
    "    total_error = running_error/num_batches\n",
    "    elapsed = (time.time()-start)/60\n",
    "    \n",
    "\n",
    "    print('epoch=',epoch, '\\t time=', elapsed,'min','\\t lr=', my_lr  ,'\\t loss=', total_loss)\n",
    "#     eval_on_test_set() \n",
    "    print(' ')\n",
    "    \n",
    "           "
   ]
  },
  {
   "cell_type": "markdown",
   "id": "5be46014",
   "metadata": {},
   "source": [
    "Function to evaluate the network on the test set <br>\n",
    "Convert the results in the test set into normal values (regularized the data in the data preprocessing)"
   ]
  },
  {
   "cell_type": "code",
   "execution_count": 11,
   "id": "cbcbfb31",
   "metadata": {},
   "outputs": [],
   "source": [
    "predict = []\n",
    "\n",
    "def eval_on_test_set():\n",
    "    running_loss=0\n",
    "    num_batches=0\n",
    "    \n",
    "    for i in range(0,len(test_data),bs):\n",
    "        #print(i)\n",
    "        minibatch_data =  test_data[i:i+bs]\n",
    "        minibatch_label= test_label[i:i+bs]\n",
    "\n",
    "        minibatch_data=minibatch_data.to(device)\n",
    "        minibatch_label=minibatch_label.to(device)\n",
    "        #minibatch_data = (minibatch_data - test_data.mean())/test_data.std()\n",
    "        scores=net( minibatch_data ) \n",
    "        #print(scores)\n",
    "        scores = scores.view(1,1)\n",
    "        #print(scores)\n",
    "        scores = scores.detach().numpy()\n",
    "        #print(scores)\n",
    "        scores = sc.inverse_transform(scores)\n",
    "        #print(scores)\n",
    "        predict.append(scores[0][0]) \n",
    "        \n",
    "        running_loss += loss.detach().item()\n",
    "\n",
    "        num_batches+=1\n",
    "\n",
    "#     total_error = running_error/num_batches\n",
    "    print( 'total loss =', running_loss )"
   ]
  },
  {
   "cell_type": "code",
   "execution_count": 12,
   "id": "5159c4fb",
   "metadata": {},
   "outputs": [
    {
     "name": "stdout",
     "output_type": "stream",
     "text": [
      "total loss = 0.9740191956516355\n"
     ]
    }
   ],
   "source": [
    "eval_on_test_set()"
   ]
  },
  {
   "cell_type": "markdown",
   "id": "9590a9df",
   "metadata": {},
   "source": [
    "Plot the final result.<br>\n",
    "you can see that the two curves, namely the predictions from the model and its true labels has the same trends in general, so the model is still generalizable for predicting whether the stock will increase the value of decrease."
   ]
  },
  {
   "cell_type": "code",
   "execution_count": 13,
   "id": "2b3cda80",
   "metadata": {},
   "outputs": [
    {
     "data": {
      "image/png": "[encoded data removed]",
      "text/plain": [
       "<Figure size 432x288 with 1 Axes>"
      ]
     },
     "metadata": {
      "needs_background": "light"
     },
     "output_type": "display_data"
    }
   ],
   "source": [
    "plt.plot(sc.inverse_transform(test_label.view(test_size,1)), color = 'black', label = 'Stock Price')\n",
    "plt.plot(predict, color = 'green', label = 'Predicted Stock Price')\n",
    "plt.title('Stock Price Prediction')\n",
    "plt.xlabel('Day')\n",
    "plt.ylabel('Stock Price')\n",
    "plt.legend()\n",
    "plt.show()"
   ]
  },
  {
   "cell_type": "code",
   "execution_count": 14,
   "id": "e5f70e2b",
   "metadata": {},
   "outputs": [
    {
     "name": "stdout",
     "output_type": "stream",
     "text": [
      "17.420000479221347\n",
      "17.530000174045565\n",
      "17.399999732971192\n",
      "18.35000039339066\n",
      "18.270000348091127\n",
      "18.43000043869019\n",
      "18.219999952316286\n",
      "18.110000257492068\n",
      "17.799999959468845\n",
      "[[17.420000479221347, 17.530000174045565, 17.399999732971192, 18.35000039339066, 18.270000348091127, 18.43000043869019, 18.219999952316286, 18.110000257492068, 17.799999959468845, 18.243496]]\n"
     ]
    }
   ],
   "source": [
    "test_label_1 = []\n",
    "for i in torch.tensor(sc.inverse_transform(test_label.view(806,1))[-9:]).view(1,9).numpy().tolist()[0]:\n",
    "    print(i)\n",
    "    test_label_1.append(i)\n",
    "test_label_1.append(predict[-1])\n",
    "print([test_label_1][0:1])"
   ]
  },
  {
   "cell_type": "code",
   "execution_count": 15,
   "id": "38548c30",
   "metadata": {},
   "outputs": [
    {
     "name": "stdout",
     "output_type": "stream",
     "text": [
      "torch.Size([1, 1, 1, 10])\n",
      "tensor([[0.0196]], grad_fn=<ViewBackward>)\n",
      "torch.Size([1, 1, 1, 10])\n",
      "tensor([[0.0571]], grad_fn=<ViewBackward>)\n",
      "torch.Size([1, 1, 1, 10])\n",
      "tensor([[-1.4908]], grad_fn=<ViewBackward>)\n",
      "torch.Size([1, 1, 1, 10])\n",
      "tensor([[-1.6331]], grad_fn=<ViewBackward>)\n",
      "torch.Size([1, 1, 1, 10])\n",
      "tensor([[-4.1038]], grad_fn=<ViewBackward>)\n",
      "torch.Size([1, 1, 1, 10])\n",
      "tensor([[-4.0818]], grad_fn=<ViewBackward>)\n",
      "torch.Size([1, 1, 1, 10])\n",
      "tensor([[-3.6785]], grad_fn=<ViewBackward>)\n",
      "torch.Size([1, 1, 1, 10])\n",
      "tensor([[-2.9101]], grad_fn=<ViewBackward>)\n",
      "torch.Size([1, 1, 1, 10])\n",
      "tensor([[-1.3176]], grad_fn=<ViewBackward>)\n",
      "torch.Size([1, 1, 1, 10])\n",
      "tensor([[-0.9440]], grad_fn=<ViewBackward>)\n"
     ]
    }
   ],
   "source": [
    "# predict = test_label_1\n",
    "for i in range(0,len(test_label_1)):\n",
    "    test_ = torch.tensor([test_label_1[i:i+10]]).unsqueeze(0).unsqueeze(0)\n",
    "    test_ = test_.to(device)\n",
    "    print(test_.size())\n",
    "    scores  = net(test_)\n",
    "    scores = scores.view(1,1)\n",
    "    print(scores)\n",
    "    scores = scores.detach().numpy()\n",
    "    test_label_1.append(scores[0][0])"
   ]
  },
  {
   "cell_type": "code",
   "execution_count": 16,
   "id": "0884a346",
   "metadata": {},
   "outputs": [],
   "source": [
    "day = []\n",
    "for i in range(len(test_label_1)-10):\n",
    "        day.append(test_size+1+i)"
   ]
  },
  {
   "cell_type": "code",
   "execution_count": 17,
   "id": "cfbc10ef",
   "metadata": {},
   "outputs": [
    {
     "data": {
      "image/png": "[encoded data removed]",
      "text/plain": [
       "<Figure size 432x288 with 1 Axes>"
      ]
     },
     "metadata": {
      "needs_background": "light"
     },
     "output_type": "display_data"
    }
   ],
   "source": [
    "plt.plot(sc.inverse_transform(test_label.view(test_size,1)), color = 'black', label = 'Stock Price')\n",
    "plt.plot(day,test_label_1[10:], color = 'green', label = 'Predicted Stock Price')\n",
    "plt.title('Stock Price Prediction')\n",
    "plt.xlabel('Day')\n",
    "plt.ylabel('Stock Price')\n",
    "plt.legend()\n",
    "plt.show()"
   ]
  },
  {
   "cell_type": "code",
   "execution_count": 18,
   "id": "3fa08183",
   "metadata": {},
   "outputs": [],
   "source": [
    "def get_error( scores , labels ):\n",
    "    bs=len(scores)\n",
    "    matches = 0.0    \n",
    "    for i in range (len(scores)):\n",
    "        if abs(scores[i] - labels[i]) <=1.5:\n",
    "            matches+=1   \n",
    "    return matches/bs"
   ]
  },
  {
   "cell_type": "code",
   "execution_count": 19,
   "id": "784a1b5c",
   "metadata": {},
   "outputs": [
    {
     "data": {
      "text/plain": [
       "0.8337468982630273"
      ]
     },
     "execution_count": 19,
     "metadata": {},
     "output_type": "execute_result"
    }
   ],
   "source": [
    "get_error(predict , sc.inverse_transform(test_label.view(test_size,1)) )"
   ]
  },
  {
   "cell_type": "markdown",
   "id": "d25b265a",
   "metadata": {},
   "source": [
    "# Analysis"
   ]
  },
  {
   "cell_type": "markdown",
   "id": "aece81d3",
   "metadata": {},
   "source": [
    "Generally,In the final result, the accuracy is 87%, but it fits the trends of the real-stock price in some extends. Considering the CNN is designed for the image recognition rather than data prediction, so we think the result is great."
   ]
  },
  {
   "cell_type": "code",
   "execution_count": null,
   "id": "5af2cbb0",
   "metadata": {},
   "outputs": [],
   "source": []
  }
 ],
 "metadata": {
  "kernelspec": {
   "display_name": "Python 3 (ipykernel)",
   "language": "python",
   "name": "python3"
  },
  "language_info": {
   "codemirror_mode": {
    "name": "ipython",
    "version": 3
   },
   "file_extension": ".py",
   "mimetype": "text/x-python",
   "name": "python",
   "nbconvert_exporter": "python",
   "pygments_lexer": "ipython3",
   "version": "3.7.10"
  },
  "toc": {
   "base_numbering": 1,
   "nav_menu": {},
   "number_sections": true,
   "sideBar": true,
   "skip_h1_title": false,
   "title_cell": "Table of Contents",
   "title_sidebar": "Contents",
   "toc_cell": false,
   "toc_position": {},
   "toc_section_display": true,
   "toc_window_display": false
  }
 },
 "nbformat": 4,
 "nbformat_minor": 5
}

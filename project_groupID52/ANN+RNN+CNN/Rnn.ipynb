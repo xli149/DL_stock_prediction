{
 "cells": [
  {
   "cell_type": "code",
   "execution_count": 46,
   "id": "5d54c056",
   "metadata": {},
   "outputs": [
    {
     "name": "stdout",
     "output_type": "stream",
     "text": [
      "Requirement already satisfied: tushare in /Users/chrislee/miniconda3/envs/deeplearn_course1/lib/python3.7/site-packages (1.2.67)\n",
      "Requirement already satisfied: simplejson in /Users/chrislee/miniconda3/envs/deeplearn_course1/lib/python3.7/site-packages (from tushare) (3.17.5)\n",
      "Requirement already satisfied: requests in /Users/chrislee/miniconda3/envs/deeplearn_course1/lib/python3.7/site-packages (from tushare) (2.25.1)\n",
      "Requirement already satisfied: lxml in /Users/chrislee/miniconda3/envs/deeplearn_course1/lib/python3.7/site-packages (from tushare) (4.6.3)\n",
      "Requirement already satisfied: websocket-client>=0.57.0 in /Users/chrislee/miniconda3/envs/deeplearn_course1/lib/python3.7/site-packages (from tushare) (1.2.1)\n",
      "Requirement already satisfied: pandas in /Users/chrislee/miniconda3/envs/deeplearn_course1/lib/python3.7/site-packages (from tushare) (1.3.1)\n",
      "Requirement already satisfied: bs4 in /Users/chrislee/miniconda3/envs/deeplearn_course1/lib/python3.7/site-packages (from tushare) (0.0.1)\n",
      "Requirement already satisfied: beautifulsoup4 in /Users/chrislee/miniconda3/envs/deeplearn_course1/lib/python3.7/site-packages (from bs4->tushare) (4.10.0)\n",
      "Requirement already satisfied: numpy>=1.17.3 in /Users/chrislee/miniconda3/envs/deeplearn_course1/lib/python3.7/site-packages (from pandas->tushare) (1.21.1)\n",
      "Requirement already satisfied: python-dateutil>=2.7.3 in /Users/chrislee/miniconda3/envs/deeplearn_course1/lib/python3.7/site-packages (from pandas->tushare) (2.8.2)\n",
      "Requirement already satisfied: pytz>=2017.3 in /Users/chrislee/miniconda3/envs/deeplearn_course1/lib/python3.7/site-packages (from pandas->tushare) (2021.3)\n",
      "Requirement already satisfied: certifi>=2017.4.17 in /Users/chrislee/miniconda3/envs/deeplearn_course1/lib/python3.7/site-packages (from requests->tushare) (2021.10.8)\n",
      "Requirement already satisfied: idna<3,>=2.5 in /Users/chrislee/miniconda3/envs/deeplearn_course1/lib/python3.7/site-packages (from requests->tushare) (2.10)\n",
      "Requirement already satisfied: chardet<5,>=3.0.2 in /Users/chrislee/miniconda3/envs/deeplearn_course1/lib/python3.7/site-packages (from requests->tushare) (4.0.0)\n",
      "Requirement already satisfied: urllib3<1.27,>=1.21.1 in /Users/chrislee/miniconda3/envs/deeplearn_course1/lib/python3.7/site-packages (from requests->tushare) (1.26.7)\n",
      "Requirement already satisfied: six>=1.5 in /Users/chrislee/miniconda3/envs/deeplearn_course1/lib/python3.7/site-packages (from python-dateutil>=2.7.3->pandas->tushare) (1.16.0)\n",
      "Requirement already satisfied: soupsieve>1.2 in /Users/chrislee/miniconda3/envs/deeplearn_course1/lib/python3.7/site-packages (from beautifulsoup4->bs4->tushare) (2.2.1)\n",
      "Note: you may need to restart the kernel to use updated packages.\n"
     ]
    }
   ],
   "source": [
    "pip install tushare"
   ]
  },
  {
   "cell_type": "markdown",
   "id": "7b4fb32d",
   "metadata": {},
   "source": [
    "This notebook is the implementation of the Recurrent Neural Network for stock prediction. We use Tushare API for scraping and developing our dataset. To make the training process easier and shorter. We chose to train on a single stock dataset 000001.SZ, which holds about 3000 days of stock data from January 1st, 2010 to Nov 11th, 2021. The RNN consists of three layers. One LSTM and two Linear layers. We removed the Embedding layers that have been taught during the lecture since our model is training to fit in linear regression instead of classification. We did not chose to use two layer LSTM for two reasons:\n",
    "1) Our dataset is kind of a small dataset, which will not fit in a too big neural network\n",
    "2) Adding two LSTM layers won't make the performance better, two layers of LSTM is the most. And since we don't have that much data to train, two layers of LSTM will obviously cause an underfitting.\n",
    "\n",
    "The LSTM layer has input dimension of size 1 and hidden size of 30 due to the way that we preprocess our dataset. The first linear layer has dimension 30 $\\times$ 50 and the second linear layer has dimension 50 $\\times$ 1, which is our output size, 1 single output of the stock price in the future.\n",
    "\n",
    "\n",
    "For innovative thinking, there are two parts, firstly, in aspect of the data preprocessing. Instead of having a single giant dataset and dividing and creating each batch of data during the training processing, which may cause some extra computational effort. We decided to stack each sequential 30 days close price into a single cell of an array, namely, every batch of tensors have the dimension of n $\\times$ 30. Secondly, normally, for stock prediction, the training will only be done on the \"Close\" price feature in order to prediction the future price of a stock. However, we sense that there should also have a relation  between the future price of the stock and the \"Open\" price. So, in this case, we decided to train on both features and compare the result of training only on the \"Close\" price in LSTM "
   ]
  },
  {
   "cell_type": "code",
   "execution_count": 47,
   "id": "9e533739",
   "metadata": {},
   "outputs": [],
   "source": [
    "import tushare as ts\n",
    "import numpy as np\n",
    "import torch\n",
    "import torch.nn as nn\n",
    "import torch.nn.functional as F\n",
    "from sklearn.preprocessing import StandardScaler\n",
    "import math\n",
    "import time"
   ]
  },
  {
   "cell_type": "markdown",
   "id": "64bf78b0",
   "metadata": {},
   "source": [
    "This part down below is our tiny scrapper. By using the free version of tushare API without paying any money, we can scrape about 10 years stock data from 2010-01-01 to 2022-12-31"
   ]
  },
  {
   "cell_type": "code",
   "execution_count": 48,
   "id": "df4285d7",
   "metadata": {},
   "outputs": [],
   "source": [
    "ts.set_token('293d683e83b36fad82472d9a4b4c3903d21fa6bcb85cb0cd4f4b9414')"
   ]
  },
  {
   "cell_type": "code",
   "execution_count": 49,
   "id": "7d9bd63f",
   "metadata": {},
   "outputs": [],
   "source": [
    "pro = ts.pro_api()"
   ]
  },
  {
   "cell_type": "markdown",
   "id": "78646e64",
   "metadata": {},
   "source": [
    "Pandas from getting the raw data from the scraper"
   ]
  },
  {
   "cell_type": "code",
   "execution_count": 50,
   "id": "dc5d463b",
   "metadata": {},
   "outputs": [],
   "source": [
    "df = pro.daily(ts_code='000001.SZ', start_date='2010-01-01', end_date='2022-12-31')"
   ]
  },
  {
   "cell_type": "code",
   "execution_count": 51,
   "id": "239f3914",
   "metadata": {},
   "outputs": [
    {
     "data": {
      "text/html": [
       "<div>\n",
       "<style scoped>\n",
       "    .dataframe tbody tr th:only-of-type {\n",
       "        vertical-align: middle;\n",
       "    }\n",
       "\n",
       "    .dataframe tbody tr th {\n",
       "        vertical-align: top;\n",
       "    }\n",
       "\n",
       "    .dataframe thead th {\n",
       "        text-align: right;\n",
       "    }\n",
       "</style>\n",
       "<table border=\"1\" class=\"dataframe\">\n",
       "  <thead>\n",
       "    <tr style=\"text-align: right;\">\n",
       "      <th></th>\n",
       "      <th>ts_code</th>\n",
       "      <th>trade_date</th>\n",
       "      <th>open</th>\n",
       "      <th>high</th>\n",
       "      <th>low</th>\n",
       "      <th>close</th>\n",
       "      <th>pre_close</th>\n",
       "      <th>change</th>\n",
       "      <th>pct_chg</th>\n",
       "      <th>vol</th>\n",
       "      <th>amount</th>\n",
       "    </tr>\n",
       "  </thead>\n",
       "  <tbody>\n",
       "    <tr>\n",
       "      <th>0</th>\n",
       "      <td>000001.SZ</td>\n",
       "      <td>20211118</td>\n",
       "      <td>18.09</td>\n",
       "      <td>18.12</td>\n",
       "      <td>17.73</td>\n",
       "      <td>17.80</td>\n",
       "      <td>18.11</td>\n",
       "      <td>-0.31</td>\n",
       "      <td>-1.7118</td>\n",
       "      <td>799843.77</td>\n",
       "      <td>1430058.311</td>\n",
       "    </tr>\n",
       "    <tr>\n",
       "      <th>1</th>\n",
       "      <td>000001.SZ</td>\n",
       "      <td>20211117</td>\n",
       "      <td>18.15</td>\n",
       "      <td>18.30</td>\n",
       "      <td>17.98</td>\n",
       "      <td>18.11</td>\n",
       "      <td>18.22</td>\n",
       "      <td>-0.11</td>\n",
       "      <td>-0.6037</td>\n",
       "      <td>664640.38</td>\n",
       "      <td>1203859.180</td>\n",
       "    </tr>\n",
       "    <tr>\n",
       "      <th>2</th>\n",
       "      <td>000001.SZ</td>\n",
       "      <td>20211116</td>\n",
       "      <td>18.36</td>\n",
       "      <td>18.54</td>\n",
       "      <td>18.17</td>\n",
       "      <td>18.22</td>\n",
       "      <td>18.43</td>\n",
       "      <td>-0.21</td>\n",
       "      <td>-1.1394</td>\n",
       "      <td>601110.48</td>\n",
       "      <td>1099113.409</td>\n",
       "    </tr>\n",
       "    <tr>\n",
       "      <th>3</th>\n",
       "      <td>000001.SZ</td>\n",
       "      <td>20211115</td>\n",
       "      <td>18.35</td>\n",
       "      <td>18.63</td>\n",
       "      <td>18.20</td>\n",
       "      <td>18.43</td>\n",
       "      <td>18.27</td>\n",
       "      <td>0.16</td>\n",
       "      <td>0.8758</td>\n",
       "      <td>655089.99</td>\n",
       "      <td>1203764.095</td>\n",
       "    </tr>\n",
       "    <tr>\n",
       "      <th>4</th>\n",
       "      <td>000001.SZ</td>\n",
       "      <td>20211112</td>\n",
       "      <td>18.31</td>\n",
       "      <td>18.63</td>\n",
       "      <td>18.11</td>\n",
       "      <td>18.27</td>\n",
       "      <td>18.35</td>\n",
       "      <td>-0.08</td>\n",
       "      <td>-0.4360</td>\n",
       "      <td>957546.46</td>\n",
       "      <td>1753072.716</td>\n",
       "    </tr>\n",
       "  </tbody>\n",
       "</table>\n",
       "</div>"
      ],
      "text/plain": [
       "     ts_code trade_date   open   high    low  close  pre_close  change  \\\n",
       "0  000001.SZ   20211118  18.09  18.12  17.73  17.80      18.11   -0.31   \n",
       "1  000001.SZ   20211117  18.15  18.30  17.98  18.11      18.22   -0.11   \n",
       "2  000001.SZ   20211116  18.36  18.54  18.17  18.22      18.43   -0.21   \n",
       "3  000001.SZ   20211115  18.35  18.63  18.20  18.43      18.27    0.16   \n",
       "4  000001.SZ   20211112  18.31  18.63  18.11  18.27      18.35   -0.08   \n",
       "\n",
       "   pct_chg        vol       amount  \n",
       "0  -1.7118  799843.77  1430058.311  \n",
       "1  -0.6037  664640.38  1203859.180  \n",
       "2  -1.1394  601110.48  1099113.409  \n",
       "3   0.8758  655089.99  1203764.095  \n",
       "4  -0.4360  957546.46  1753072.716  "
      ]
     },
     "execution_count": 51,
     "metadata": {},
     "output_type": "execute_result"
    }
   ],
   "source": [
    "df.head()"
   ]
  },
  {
   "cell_type": "markdown",
   "id": "aa0f02aa",
   "metadata": {},
   "source": [
    "Data Preprocessing procedure:\n",
    "\n",
    "1) Turn the data in order of time, put the newest in the back, the data downloaded from tushare is the latest in the front, for the convenience of preparing X,y data later\n",
    "\n",
    "2) Only use the data of the closing price field in the data, but can also be tested more price fields, for example, volume and opening price\n",
    "\n",
    "3) Prepare X and y data, similar to the previous, first use the closing price of the most recent trading day as the first y, and then the closing price of the 60 trading days before this trading day as X. For example, the second most recent closing price is the second y, and the closing price of 60 trading days before the latest second closing price is used as the second X, and so on.\n",
    "\n",
    "4) Normalizing the data. Actually for this part, we firstly tried to implement our own mean standard normalization by subtracting the mean of the dataset and divide it by the standard deviation. Both values can be simply got from pandas, however, when we train it on our model, there is always a constant bias between the truth label and our prediction. So in order to predict the correct result, we use the StandardScaler() that provided by sklearn. We also found other normalization method will extremely impact the result, for example, if we choose to use max-min normalization, the prediction is almost a flatten line"
   ]
  },
  {
   "cell_type": "code",
   "execution_count": 52,
   "id": "e8bbe57f",
   "metadata": {},
   "outputs": [],
   "source": [
    "\n",
    "df = df.iloc[::-1]\n",
    "df.reset_index(inplace=True)\n",
    "\n",
    "\n",
    "training_set = df.loc[:, ['close']]\n",
    "\n",
    "\n",
    "training_set = training_set.values\n",
    "\n",
    "sc = StandardScaler()\n",
    "\n",
    "training_set_scaled = sc.fit_transform(training_set)\n",
    "\n",
    "from sklearn.preprocessing import scale\n",
    "x_train = []\n",
    "y_train = []\n",
    "for i in range(10, len(training_set_scaled)):\n",
    "    x_train.append(training_set_scaled[i-10:i])\n",
    "    y_train.append(training_set_scaled[i, training_set_scaled.shape[1] - 1])\n",
    "x, y = np.array(x_train), np.array(y_train)\n",
    "\n",
    "\n"
   ]
  },
  {
   "cell_type": "markdown",
   "id": "3fb33fc2",
   "metadata": {},
   "source": [
    "Separating the training dataset and the testing dataset as well as their corresponding labels."
   ]
  },
  {
   "cell_type": "code",
   "execution_count": 53,
   "id": "f3a7c8ac",
   "metadata": {},
   "outputs": [
    {
     "name": "stdout",
     "output_type": "stream",
     "text": [
      "x_train size: 2000\n",
      "y_train size: 2000\n",
      "x_test size: 805\n",
      "y_test size: 805\n",
      "805\n"
     ]
    }
   ],
   "source": [
    "x_train = x[:2000]\n",
    "y_train = y[:2000]\n",
    "\n",
    "x_test = x[2000:-1]\n",
    "y_test = y[2000:-1]\n",
    "\n",
    "\n",
    "print(f\"x_train size: {len(x_train)}\")\n",
    "print(f\"y_train size: {len(y_train)}\")\n",
    "print(f\"x_test size: {len(x_test)}\")\n",
    "print(f\"y_test size: {len(y_test)}\")\n",
    "test_size = len(x_test)\n",
    "print(test_size)\n",
    "# y_test"
   ]
  },
  {
   "cell_type": "markdown",
   "id": "e68febf4",
   "metadata": {},
   "source": [
    "We keep the future 10 days data for comparing our final result"
   ]
  },
  {
   "cell_type": "code",
   "execution_count": 54,
   "id": "094f71b1",
   "metadata": {},
   "outputs": [
    {
     "data": {
      "text/plain": [
       "array([[17.87],\n",
       "       [17.64],\n",
       "       [17.42],\n",
       "       [17.53],\n",
       "       [17.4 ],\n",
       "       [18.35],\n",
       "       [18.27],\n",
       "       [18.43],\n",
       "       [18.22],\n",
       "       [18.11]])"
      ]
     },
     "execution_count": 54,
     "metadata": {},
     "output_type": "execute_result"
    }
   ],
   "source": [
    "future_ten_price = sc.inverse_transform(x[-1])\n",
    "future_ten_price"
   ]
  },
  {
   "cell_type": "markdown",
   "id": "18d36cd4",
   "metadata": {},
   "source": [
    "Constructing the three layer neural network for training our model. Like was introduced in the description. The three layer RNN consists of one LSTM and two linear layers. And there are 5561 parameters for this neural network. The LSTM layer will take the h_init and c_init to collect the long-term and short-term memories. And it will pass the h_seq to the linear layer for prediction. We also tried dropout and batch_first method. The dropout layer will randomly deactivate some neurons with 0.3 possibility, since we have relatively small dataset, adding on dropout layer is a good choice\n"
   ]
  },
  {
   "cell_type": "code",
   "execution_count": 55,
   "id": "e8cae63b",
   "metadata": {},
   "outputs": [],
   "source": [
    "class three_layer_recurrent_net(nn.Module):\n",
    "\n",
    "    def __init__(self, hidden_size):\n",
    "        super(three_layer_recurrent_net, self).__init__()\n",
    "        self.layer1 = nn.LSTM(    1, hidden_size, batch_first = True, dropout = 0.3, bias=True )\n",
    "        self.layer2 = nn.Linear(    hidden_size , 50, bias=True  )\n",
    "        self.layer3 = nn.Linear(    50, 1 , bias=True  )\n",
    "\n",
    "        \n",
    "    def forward(self, word_seq, h_init, c_init ):\n",
    "        h_seq , (h_final,c_final)  =   self.layer1( word_seq , (h_init,c_init) )      \n",
    "        g_seq                  =   self.layer2( h_seq )\n",
    "        g_seq = F.tanh(g_seq)\n",
    "        score_seq              = self.layer3(g_seq)\n",
    "        \n",
    "        return score_seq,  h_final , c_final"
   ]
  },
  {
   "cell_type": "markdown",
   "id": "a948ad21",
   "metadata": {},
   "source": [
    "Because our dataset is relatively small, we are using cpu for training"
   ]
  },
  {
   "cell_type": "code",
   "execution_count": 56,
   "id": "89c6eb5c",
   "metadata": {},
   "outputs": [
    {
     "name": "stdout",
     "output_type": "stream",
     "text": [
      "cpu\n"
     ]
    }
   ],
   "source": [
    "device= torch.device(\"cpu\")\n",
    "print(device)"
   ]
  },
  {
   "cell_type": "markdown",
   "id": "eeaf6f20",
   "metadata": {},
   "source": [
    "This part is for converting the training and testing data to tensor and initializing some hyper parameters. \n",
    "bs: the batch size for each epoch. We are using bs 1 is because we stacked the totally 30 data into one cell, and since we do not have that much data, making a relatively small batch size may help the LSTM to learn better.\n",
    "hidden_size: this depends on the number of datas in a single batch. For us, each batch is made of 30 days data, there fore, the dimension of the tensor will be 1 $\\times$ 30\n",
    "net: the instance of our LSTM.\n",
    "\n",
    "We pass the network to the cpu (although little bit of redundant)"
   ]
  },
  {
   "cell_type": "code",
   "execution_count": 57,
   "id": "d85a1d2d",
   "metadata": {},
   "outputs": [
    {
     "name": "stdout",
     "output_type": "stream",
     "text": [
      "LSTM(1, 30, batch_first=True, dropout=0.3)\n"
     ]
    },
    {
     "name": "stderr",
     "output_type": "stream",
     "text": [
      "/Users/chrislee/miniconda3/envs/deeplearn_course1/lib/python3.7/site-packages/torch/nn/modules/rnn.py:65: UserWarning: dropout option adds dropout after all but last recurrent layer, so non-zero dropout expects num_layers greater than 1, but got dropout=0.3 and num_layers=1\n",
      "  \"num_layers={}\".format(dropout, num_layers))\n"
     ]
    },
    {
     "data": {
      "text/plain": [
       "tensor([ 1.8622,  2.0566,  1.8392,  ..., -1.2990, -1.2197, -1.2248])"
      ]
     },
     "execution_count": 57,
     "metadata": {},
     "output_type": "execute_result"
    }
   ],
   "source": [
    "train_data = torch.Tensor(x_train)\n",
    "\n",
    "\n",
    "\n",
    "train_label = torch.Tensor(y_train)\n",
    "\n",
    "# print(train_label.size())\n",
    "\n",
    "test_data = torch.Tensor(x_test)\n",
    "\n",
    "# test_data = test_data.permute(1, 0, 2)\n",
    "\n",
    "test_label = torch.Tensor(y_test)\n",
    "\n",
    "bs =1\n",
    "\n",
    "hidden_size=30\n",
    "\n",
    "net = three_layer_recurrent_net( hidden_size )\n",
    "print(net.layer1)\n",
    "\n",
    "net = net.to(device)\n",
    "\n",
    "# print(train_data.size())\n",
    "train_label.size()\n",
    "train_label"
   ]
  },
  {
   "cell_type": "markdown",
   "id": "87b85ac4",
   "metadata": {},
   "source": [
    "Initializing the weight of the two linear layers. Found it actually helps to generate a better result."
   ]
  },
  {
   "cell_type": "code",
   "execution_count": 58,
   "id": "0454d389",
   "metadata": {
    "scrolled": true
   },
   "outputs": [
    {
     "data": {
      "text/plain": [
       "tensor([[-0.0408, -0.0481,  0.0873,  0.0862, -0.0456,  0.0183, -0.0757, -0.0645,\n",
       "          0.0852,  0.0594,  0.0182, -0.0625,  0.0782,  0.0699,  0.0365,  0.0894,\n",
       "          0.0049, -0.0329, -0.0283, -0.0049, -0.0148,  0.0267,  0.0011,  0.0486,\n",
       "          0.0232, -0.0825, -0.0489, -0.0589,  0.0715,  0.0429,  0.0030,  0.0548,\n",
       "          0.0682,  0.0584,  0.0550, -0.0617, -0.0624, -0.0907,  0.0642,  0.0892,\n",
       "         -0.0175,  0.0609, -0.0270,  0.0940,  0.0634,  0.0492, -0.0475,  0.0542,\n",
       "          0.0321, -0.0207]])"
      ]
     },
     "execution_count": 58,
     "metadata": {},
     "output_type": "execute_result"
    }
   ],
   "source": [
    "net.layer2.weight.data.uniform_(-0.1, 0.1)\n",
    "net.layer3.weight.data.uniform_(-0.1, 0.1)"
   ]
  },
  {
   "cell_type": "markdown",
   "id": "48b25612",
   "metadata": {},
   "source": [
    "Initializing the the Mean Square Loss for criterion and set the hyper parameter learning rate to be 0.01"
   ]
  },
  {
   "cell_type": "code",
   "execution_count": 59,
   "id": "2df9bc8a",
   "metadata": {},
   "outputs": [],
   "source": [
    "criterion = nn.MSELoss()\n",
    "\n",
    "# my_lr = 0.1851851851851852 \t\n",
    "my_lr =0.25"
   ]
  },
  {
   "cell_type": "markdown",
   "id": "2bd93439",
   "metadata": {},
   "source": [
    "Do 20 epochs on the training process and dividing the learning rate by 2 after the third epoch just following what Professor Xavier has done during the lecture. We count the loss for each epoch and sum it up to check the final total loss. During the whole building process, we tried different criterions such as Adam, Adamw and SDG. AdamW and Adam can converge in a relatively short time, but the model does not generalize well on our test data. After several choices, we figured out that SDG is our best choice."
   ]
  },
  {
   "cell_type": "code",
   "execution_count": 60,
   "id": "f958185b",
   "metadata": {
    "scrolled": false
   },
   "outputs": [
    {
     "name": "stderr",
     "output_type": "stream",
     "text": [
      "/Users/chrislee/miniconda3/envs/deeplearn_course1/lib/python3.7/site-packages/torch/nn/functional.py:1794: UserWarning: nn.functional.tanh is deprecated. Use torch.tanh instead.\n",
      "  warnings.warn(\"nn.functional.tanh is deprecated. Use torch.tanh instead.\")\n",
      "/Users/chrislee/miniconda3/envs/deeplearn_course1/lib/python3.7/site-packages/torch/nn/modules/loss.py:528: UserWarning: Using a target size (torch.Size([1])) that is different to the input size (torch.Size([10, 1])). This will likely lead to incorrect results due to broadcasting. Please ensure they have the same size.\n",
      "  return F.mse_loss(input, target, reduction=self.reduction)\n"
     ]
    },
    {
     "name": "stdout",
     "output_type": "stream",
     "text": [
      "\n",
      "epoch= 0 \t time= 4.800110816955566 \t lr= 0.25 \t loss= 0.013313513600303434\n",
      "\n",
      "epoch= 1 \t time= 9.442927837371826 \t lr= 0.25 \t loss= 0.02250199170044037\n",
      "\n",
      "epoch= 2 \t time= 13.94291090965271 \t lr= 0.25 \t loss= 0.018747673021379096\n",
      "\n",
      "epoch= 3 \t time= 18.34182572364807 \t lr= 0.125 \t loss= 0.030401888082999175\n",
      "\n",
      "epoch= 4 \t time= 23.00395965576172 \t lr= 0.0625 \t loss= 0.05571821437631879\n",
      "\n",
      "epoch= 5 \t time= 27.81911873817444 \t lr= 0.03125 \t loss= 0.08316625125296483\n",
      "\n",
      "epoch= 6 \t time= 32.491336822509766 \t lr= 0.015625 \t loss= 0.06617666969675154\n",
      "\n",
      "epoch= 7 \t time= 37.16544485092163 \t lr= 0.0078125 \t loss= 0.0500182203600999\n",
      "\n",
      "epoch= 8 \t time= 41.70264291763306 \t lr= 0.00390625 \t loss= 0.04923913801118441\n",
      "\n",
      "epoch= 9 \t time= 46.206899881362915 \t lr= 0.001953125 \t loss= 0.04879726221872278\n",
      "\n",
      "epoch= 10 \t time= 50.611013889312744 \t lr= 0.0009765625 \t loss= 0.04737305962444675\n",
      "\n",
      "epoch= 11 \t time= 55.19320487976074 \t lr= 0.00048828125 \t loss= 0.045978063760146556\n",
      "\n",
      "epoch= 12 \t time= 60.043609857559204 \t lr= 0.000244140625 \t loss= 0.04527180242938424\n",
      "\n",
      "epoch= 13 \t time= 64.81544876098633 \t lr= 0.0001220703125 \t loss= 0.04498081197101416\n",
      "\n",
      "epoch= 14 \t time= 69.36449980735779 \t lr= 6.103515625e-05 \t loss= 0.044842282331986116\n",
      "\n",
      "epoch= 15 \t time= 74.49945187568665 \t lr= 3.0517578125e-05 \t loss= 0.044773403716198604\n",
      "\n",
      "epoch= 16 \t time= 79.06157994270325 \t lr= 1.52587890625e-05 \t loss= 0.04473851584054961\n",
      "\n",
      "epoch= 17 \t time= 83.5189847946167 \t lr= 7.62939453125e-06 \t loss= 0.0447208331262355\n",
      "\n",
      "epoch= 18 \t time= 87.84080100059509 \t lr= 3.814697265625e-06 \t loss= 0.04471192503288417\n",
      "\n",
      "epoch= 19 \t time= 92.17092394828796 \t lr= 1.9073486328125e-06 \t loss= 0.04470741549912286\n"
     ]
    }
   ],
   "source": [
    "start=time.time()\n",
    "\n",
    "\n",
    "loss_epochs = []\n",
    "\n",
    "for epoch in range(20):\n",
    "\n",
    "    # divide the learning rate by 3 except after the first epoch\n",
    "    if epoch >= 3:\n",
    "        my_lr = my_lr / 2\n",
    "    \n",
    "    # create a new optimizer at the beginning of each epoch: give the current learning rate.   \n",
    "\n",
    "    optimizer=torch.optim.SGD( net.parameters() , lr=my_lr )\n",
    "    # set the running quatities to zero at the beginning of the epoch\n",
    "    running_loss=0\n",
    "    num_batches=0    \n",
    "       \n",
    "    # set the initial h and c to be the zero vector\n",
    "    h = torch.zeros(1, bs, hidden_size)\n",
    "    c = torch.zeros(1, bs, hidden_size)\n",
    "\n",
    " \n",
    "    h=h.to(device)\n",
    "    c=c.to(device)\n",
    "\n",
    "    for count in range(0,  2000 - 1  ,bs):\n",
    "        # Set the gradients to zeros\n",
    "        optimizer.zero_grad()\n",
    "        # create a minibatch\n",
    "        minibatch_data =  train_data[ count   : count+bs ]\n",
    "        minibatch_label = train_label[count: count +bs]  \n",
    "        # send them to the gpu\n",
    "        minibatch_data=minibatch_data.to(device)\n",
    "        minibatch_label=minibatch_label.to(device)\n",
    "        # Detach to prevent from backpropagating all the way to the beginning\n",
    "        # Then tell Pytorch to start tracking all operations that will be done on h and c\n",
    "        h=h.detach()\n",
    "        c=c.detach()\n",
    "        h=h.requires_grad_()\n",
    "        c=c.requires_grad_()\n",
    "        # forward the minibatch through the net\n",
    "        scores, h, c  = net( minibatch_data, h , c)\n",
    "        # reshape the scores and labels to huge batch of size bs*seq_length\n",
    "        scores          =          scores[-1]\n",
    "        minibatch_label =   minibatch_label    \n",
    "        # Compute the average of the losses of the data points in this huge batch\n",
    "        loss = criterion(  scores ,  minibatch_label )\n",
    "        # backward pass to compute dL/dR, dL/dV and dL/dW\n",
    "        loss.backward()\n",
    "        # do one step of stochastic gradient descent: R=R-lr(dL/dR), V=V-lr(dL/dV), ...\n",
    "        optimizer.step()\n",
    "        # update the running loss  \n",
    "        running_loss += loss.item()\n",
    "        num_batches += 1\n",
    "        \n",
    "    # compute stats for the full training set\n",
    "    total_loss = running_loss/num_batches\n",
    "    loss_epochs.append(total_loss)\n",
    "    elapsed = time.time()-start\n",
    "    \n",
    "    print('')\n",
    "    print('epoch=',epoch, '\\t time=', elapsed,'\\t lr=',   my_lr , '\\t loss=',  total_loss)\n",
    "#     eval_on_test_set()\n",
    "\n",
    "\n"
   ]
  },
  {
   "cell_type": "markdown",
   "id": "154c3e6d",
   "metadata": {},
   "source": [
    "Plot the loss in here, and we can see clearly that the loss increase first and then decrease from the fifth epoch, so the best learning rate could be around 0.03"
   ]
  },
  {
   "cell_type": "code",
   "execution_count": 61,
   "id": "8d391fb6",
   "metadata": {},
   "outputs": [
    {
     "data": {
      "image/png": "[encoded data removed]",
      "text/plain": [
       "<Figure size 432x288 with 1 Axes>"
      ]
     },
     "metadata": {
      "needs_background": "light"
     },
     "output_type": "display_data"
    }
   ],
   "source": [
    "import matplotlib.pyplot as plt\n",
    "\n",
    "plt.plot(loss_epochs, color = 'red', label = '')\n",
    "\n",
    "plt.xlabel('epoch')\n",
    "\n",
    "plt.ylabel('loss')\n",
    "\n",
    "plt.legend()\n",
    "\n",
    "plt.show()"
   ]
  },
  {
   "cell_type": "code",
   "execution_count": 62,
   "id": "6329cdfb",
   "metadata": {},
   "outputs": [],
   "source": [
    "prediction = []\n",
    "\n",
    "def eval_on_test_set():\n",
    "\n",
    "\n",
    "    running_loss=0\n",
    "    num_batches=0    \n",
    "       \n",
    "    h = torch.zeros(1, bs, hidden_size)\n",
    "    c = torch.zeros(1, bs, hidden_size)\n",
    "   \n",
    "    h=h.to(device)\n",
    "    c=c.to(device)\n",
    "       \n",
    "    for count in range( 0 , test_size ,  1) :\n",
    "               \n",
    "        minibatch_data =  test_data[ count   : count+bs ]\n",
    "        minibatch_label = test_label[count : count+bs] \n",
    "        \n",
    "        minibatch_data=minibatch_data.to(device)\n",
    "        minibatch_label=minibatch_label.to(device)\n",
    "        \n",
    "                                  \n",
    "#         print(minibatch_data.size())\n",
    "        scores, h, c  = net( minibatch_data, h , c)\n",
    "        \n",
    "        minibatch_label =   minibatch_label\n",
    "        scores          =            scores[-1]\n",
    "        \n",
    "#         print(f\"score: {scores}\")\n",
    "\n",
    "        \n",
    "\n",
    "#         print(f\" score: {scores} score size: {scores.size()} mini_batch size: {minibatch_label.size()}\")\n",
    "        \n",
    "        loss = criterion(  scores ,  minibatch_label )    \n",
    "        \n",
    "        h=h.detach()\n",
    "        c=c.detach()\n",
    "            \n",
    "        running_loss += loss.item()\n",
    "        num_batches += 1   \n",
    "        scores = scores.detach().numpy()\n",
    "        \n",
    "        scores = sc.inverse_transform(scores)\n",
    "        #print(scores)\n",
    "        prediction.append(scores[0])\n",
    "#         prediction.append(scores[0])\n",
    "    total_loss = running_loss/num_batches \n",
    "    print('test: loss = ', total_loss )"
   ]
  },
  {
   "cell_type": "markdown",
   "id": "2052c73e",
   "metadata": {},
   "source": [
    "The total loss of the evaluation is around 0.08 by only training on the \"Close feature\" and we tried to train on both \"Close\" and \"Open\" feature together since we thought there is a co-relationship between them, however, after same 20 epochs, the loss of training on both \"Close\" and \"Open\" feature give us a relatively higher loss. So we decided to remove the \"Opening feature\". And we can visualize the result in the figure below."
   ]
  },
  {
   "cell_type": "code",
   "execution_count": 63,
   "id": "c6885b87",
   "metadata": {},
   "outputs": [
    {
     "name": "stdout",
     "output_type": "stream",
     "text": [
      "test: loss =  0.06104416957928406\n"
     ]
    }
   ],
   "source": [
    "eval_on_test_set()"
   ]
  },
  {
   "cell_type": "markdown",
   "id": "323c2755",
   "metadata": {},
   "source": [
    "But overall, you can see that the two curves, namely the predictions from the model and its true labels has the same trends in general, so the model is still generalizable for predicting whether the stock will increase the value of decrease."
   ]
  },
  {
   "cell_type": "markdown",
   "id": "18d964ea",
   "metadata": {},
   "source": [
    "Testing result (only on close value) under normalization range. We can clearly see that the prediction line (in green) has a very high degree of fitness with the ground truth label of the test set."
   ]
  },
  {
   "cell_type": "code",
   "execution_count": 64,
   "id": "2b648ae0",
   "metadata": {},
   "outputs": [
    {
     "data": {
      "image/png": "[encoded data removed]",
      "text/plain": [
       "<Figure size 432x288 with 1 Axes>"
      ]
     },
     "metadata": {
      "needs_background": "light"
     },
     "output_type": "display_data"
    }
   ],
   "source": [
    "#import matplotlib.pyplot as plt\n",
    "\n",
    "plt.plot(sc.inverse_transform(test_label), color = 'black', label = 'Stock Price')\n",
    "plt.plot(prediction, color='green', label = 'score')\n",
    "\n",
    "plt.xlabel('Time')\n",
    "\n",
    "plt.ylabel('Stock Price')\n",
    "\n",
    "plt.legend()\n",
    "\n",
    "plt.show()"
   ]
  },
  {
   "cell_type": "markdown",
   "id": "4d263df6",
   "metadata": {},
   "source": [
    "Similary testing result for training on two feature (Open and Close values), gives us relatively same result"
   ]
  },
  {
   "cell_type": "code",
   "execution_count": 65,
   "id": "4e49eb5f",
   "metadata": {},
   "outputs": [
    {
     "data": {
      "image/png": "[encoded data removed]",
      "text/plain": [
       "<Figure size 432x288 with 1 Axes>"
      ]
     },
     "metadata": {
      "needs_background": "light"
     },
     "output_type": "display_data"
    }
   ],
   "source": [
    "import matplotlib.pyplot as plt\n",
    "\n",
    "\n",
    "\n",
    "\n",
    "plt.plot(sc.inverse_transform(test_label.view(test_size,1)), color = 'black', label = 'Stock Price')\n",
    "plt.plot(prediction, color='blue', label = 'score')\n",
    "\n",
    "plt.xlabel('Time')\n",
    "\n",
    "plt.ylabel('Stock Price')\n",
    "\n",
    "plt.legend()\n",
    "\n",
    "plt.show()\n"
   ]
  },
  {
   "cell_type": "markdown",
   "id": "ee2f4f4d",
   "metadata": {},
   "source": [
    "Preparing for plotting the future 10 days stock price."
   ]
  },
  {
   "cell_type": "code",
   "execution_count": 66,
   "id": "36942b7c",
   "metadata": {},
   "outputs": [],
   "source": [
    "test_label_1 = []\n",
    "for i in torch.tensor(sc.inverse_transform(test_label.view(test_size,1)))[-9:].view(1,9).numpy().tolist()[0]:\n",
    "    test_label_1.append(i)\n",
    "test_label_1.append(float(prediction[-1]))"
   ]
  },
  {
   "cell_type": "code",
   "execution_count": 67,
   "id": "e7e2cc37",
   "metadata": {},
   "outputs": [
    {
     "name": "stderr",
     "output_type": "stream",
     "text": [
      "/Users/chrislee/miniconda3/envs/deeplearn_course1/lib/python3.7/site-packages/torch/nn/functional.py:1794: UserWarning: nn.functional.tanh is deprecated. Use torch.tanh instead.\n",
      "  warnings.warn(\"nn.functional.tanh is deprecated. Use torch.tanh instead.\")\n"
     ]
    }
   ],
   "source": [
    "predict = test_label_1\n",
    "h = torch.zeros(1, bs, hidden_size)\n",
    "c = torch.zeros(1, bs, hidden_size)\n",
    "   \n",
    "for i in range(0,len(test_label_1)):\n",
    "    test_ = torch.tensor([test_label_1[i:i+10]]).unsqueeze(0).permute(0,2,1)\n",
    "    test_ = test_.to(device)\n",
    "    scores,h,c  = net(test_, h, c)\n",
    "    scores = scores[0][-1]\n",
    "    scores = scores.detach().numpy()\n",
    "    test_label_1.append(float(sc.inverse_transform(scores)))"
   ]
  },
  {
   "cell_type": "code",
   "execution_count": 68,
   "id": "ae751d15",
   "metadata": {},
   "outputs": [
    {
     "data": {
      "image/png": "[encoded data removed]",
      "text/plain": [
       "<Figure size 432x288 with 1 Axes>"
      ]
     },
     "metadata": {
      "needs_background": "light"
     },
     "output_type": "display_data"
    }
   ],
   "source": [
    "day = []\n",
    "for i in range(len(test_label_1)-10):\n",
    "        day.append(test_size+1+i)\n",
    "plt.plot(sc.inverse_transform(test_label.view(test_size,1)), color = 'black', label = 'Stock Price')\n",
    "plt.plot(day,test_label_1[10:], color = \"red\", label = 'Predicted Stock Price')\n",
    "plt.title('Stock Price Prediction')\n",
    "plt.xlabel('Day')\n",
    "plt.ylabel('Stock Price')\n",
    "plt.legend()\n",
    "plt.show()"
   ]
  },
  {
   "cell_type": "markdown",
   "id": "9b66cc44",
   "metadata": {},
   "source": [
    "Conclusion:  We implemented a simple accuracy testing method which takes our prediction result and the ground truth test label as input. We have set a threshold 1.5,which means if the difference between any two close price pairs is lower than 1.5 yuan, we count it as matched. By comparing and computing the difference between each price data pair, we got the accuracy 91% of making predictions of stock on the LSTM neural network. And by comparing and contrasting with MLP and CNN (both have accuracy around 40%), LSTM definitely shows its better performance on time sequential co-relationship data. We tried to predict the future 10 days of the stock price. Since we cannot actually get the future price, when dividing the test data, we keep 10 days actual value for checking the prediction ability. Although the overall accuracy on the test dataset already proves the performance, comparing the actual value will make the experiment much more interesting. Below, are the result of the real price and the price we predicted, and also the plot of both data, we can see that the difference between the two data will not surpass 2, which should be a fairly accuracy model due to the limited amount of data we have\n"
   ]
  },
  {
   "cell_type": "code",
   "execution_count": 69,
   "id": "83ed6f8b",
   "metadata": {},
   "outputs": [
    {
     "data": {
      "text/plain": [
       "array([[17.87],\n",
       "       [17.64],\n",
       "       [17.42],\n",
       "       [17.53],\n",
       "       [17.4 ],\n",
       "       [18.35],\n",
       "       [18.27],\n",
       "       [18.43],\n",
       "       [18.22],\n",
       "       [18.11]])"
      ]
     },
     "execution_count": 69,
     "metadata": {},
     "output_type": "execute_result"
    }
   ],
   "source": [
    "future_ten_price"
   ]
  },
  {
   "cell_type": "code",
   "execution_count": 70,
   "id": "ce32606d",
   "metadata": {},
   "outputs": [
    {
     "data": {
      "text/plain": [
       "[21.630779266357422,\n",
       " 21.494083404541016,\n",
       " 21.466064453125,\n",
       " 21.449804306030273,\n",
       " 21.4411563873291,\n",
       " 21.43644142150879,\n",
       " 21.433799743652344,\n",
       " 21.432315826416016,\n",
       " 21.431455612182617,\n",
       " 21.430950164794922]"
      ]
     },
     "execution_count": 70,
     "metadata": {},
     "output_type": "execute_result"
    }
   ],
   "source": [
    "test_label_1[10:]"
   ]
  },
  {
   "cell_type": "code",
   "execution_count": 71,
   "id": "494c4f20",
   "metadata": {},
   "outputs": [
    {
     "data": {
      "image/png": "[encoded data removed]",
      "text/plain": [
       "<Figure size 432x288 with 1 Axes>"
      ]
     },
     "metadata": {
      "needs_background": "light"
     },
     "output_type": "display_data"
    }
   ],
   "source": [
    "plt.plot(future_ten_price, color = 'black', label = 'Stock Price')\n",
    "plt.plot(test_label_1[10:], color = \"red\", label = 'Predicted Stock Price')\n",
    "plt.title('Real life Stock Price Prediction')\n",
    "plt.xlabel('Day')\n",
    "plt.ylabel('Stock Price')\n",
    "plt.legend()\n",
    "plt.show()"
   ]
  },
  {
   "cell_type": "code",
   "execution_count": 72,
   "id": "ca29314a",
   "metadata": {},
   "outputs": [],
   "source": [
    "def get_error( scores , labels ):\n",
    "\n",
    "    bs=len(scores)\n",
    "    matches = 0.0\n",
    "    \n",
    "    for i in range (len(scores)):\n",
    "        if abs(scores[i] - labels[i]) <=1.5:\n",
    "            matches+=1\n",
    "    \n",
    "    return matches/bs"
   ]
  },
  {
   "cell_type": "code",
   "execution_count": 73,
   "id": "2bf1ef5d",
   "metadata": {},
   "outputs": [],
   "source": [
    "labels = sc.inverse_transform(test_label.view(test_size,1))\n",
    "acccuracy = get_error(prediction, labels)"
   ]
  },
  {
   "cell_type": "code",
   "execution_count": 74,
   "id": "637a5bff",
   "metadata": {},
   "outputs": [
    {
     "name": "stdout",
     "output_type": "stream",
     "text": [
      "acccuracy : 0.8906832298136645\n"
     ]
    }
   ],
   "source": [
    "print(f\"acccuracy : {acccuracy}\")"
   ]
  },
  {
   "cell_type": "code",
   "execution_count": 75,
   "id": "2d2e1a40",
   "metadata": {},
   "outputs": [],
   "source": [
    "df = pro.daily(ts_code='000001.SZ', start_date='2020-1-1', end_date='2023-1-1')"
   ]
  },
  {
   "cell_type": "code",
   "execution_count": null,
   "id": "c5f7cd07",
   "metadata": {},
   "outputs": [],
   "source": []
  },
  {
   "cell_type": "code",
   "execution_count": null,
   "id": "44265ac5",
   "metadata": {},
   "outputs": [],
   "source": []
  },
  {
   "cell_type": "code",
   "execution_count": null,
   "id": "0af1f6e2",
   "metadata": {},
   "outputs": [],
   "source": []
  }
 ],
 "metadata": {
  "kernelspec": {
   "display_name": "Python 3 (ipykernel)",
   "language": "python",
   "name": "python3"
  },
  "language_info": {
   "codemirror_mode": {
    "name": "ipython",
    "version": 3
   },
   "file_extension": ".py",
   "mimetype": "text/x-python",
   "name": "python",
   "nbconvert_exporter": "python",
   "pygments_lexer": "ipython3",
   "version": "3.7.10"
  },
  "toc": {
   "base_numbering": 1,
   "nav_menu": {},
   "number_sections": true,
   "sideBar": true,
   "skip_h1_title": false,
   "title_cell": "Table of Contents",
   "title_sidebar": "Contents",
   "toc_cell": false,
   "toc_position": {},
   "toc_section_display": true,
   "toc_window_display": false
  }
 },
 "nbformat": 4,
 "nbformat_minor": 5
}
